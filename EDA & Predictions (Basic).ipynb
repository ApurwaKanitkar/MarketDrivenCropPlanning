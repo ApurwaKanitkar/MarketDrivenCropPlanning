{
 "cells": [
  {
   "cell_type": "code",
   "execution_count": 114,
   "id": "f7d9be52-16f0-41a1-ab6b-10cc61df172b",
   "metadata": {},
   "outputs": [],
   "source": [
    "import pandas as pd"
   ]
  },
  {
   "cell_type": "code",
   "execution_count": 115,
   "id": "b0928ab8-4c1f-4562-918d-e288497e5c0b",
   "metadata": {},
   "outputs": [],
   "source": [
    "df = pd.read_csv('Latur_Ahmedpur_Wheat.csv')"
   ]
  },
  {
   "cell_type": "code",
   "execution_count": 116,
   "id": "2f18f20b-0eee-4fd9-99fd-8d8ae6f3d16e",
   "metadata": {},
   "outputs": [
    {
     "data": {
      "text/html": [
       "<div>\n",
       "<style scoped>\n",
       "    .dataframe tbody tr th:only-of-type {\n",
       "        vertical-align: middle;\n",
       "    }\n",
       "\n",
       "    .dataframe tbody tr th {\n",
       "        vertical-align: top;\n",
       "    }\n",
       "\n",
       "    .dataframe thead th {\n",
       "        text-align: right;\n",
       "    }\n",
       "</style>\n",
       "<table border=\"1\" class=\"dataframe\">\n",
       "  <thead>\n",
       "    <tr style=\"text-align: right;\">\n",
       "      <th></th>\n",
       "      <th>Sl no.</th>\n",
       "      <th>District Name</th>\n",
       "      <th>Market Name</th>\n",
       "      <th>Commodity</th>\n",
       "      <th>Variety</th>\n",
       "      <th>Grade</th>\n",
       "      <th>Min Price (Rs./Quintal)</th>\n",
       "      <th>Max Price (Rs./Quintal)</th>\n",
       "      <th>Modal Price (Rs./Quintal)</th>\n",
       "      <th>Price Date</th>\n",
       "    </tr>\n",
       "  </thead>\n",
       "  <tbody>\n",
       "    <tr>\n",
       "      <th>0</th>\n",
       "      <td>1</td>\n",
       "      <td>Latur</td>\n",
       "      <td>Ahmedpur</td>\n",
       "      <td>Wheat</td>\n",
       "      <td>Other</td>\n",
       "      <td>FAQ</td>\n",
       "      <td>2631</td>\n",
       "      <td>2631</td>\n",
       "      <td>2631</td>\n",
       "      <td>30-Dec-22</td>\n",
       "    </tr>\n",
       "    <tr>\n",
       "      <th>1</th>\n",
       "      <td>2</td>\n",
       "      <td>Latur</td>\n",
       "      <td>Ahmedpur</td>\n",
       "      <td>Wheat</td>\n",
       "      <td>Other</td>\n",
       "      <td>FAQ</td>\n",
       "      <td>2000</td>\n",
       "      <td>2000</td>\n",
       "      <td>2000</td>\n",
       "      <td>27-Jun-22</td>\n",
       "    </tr>\n",
       "    <tr>\n",
       "      <th>2</th>\n",
       "      <td>3</td>\n",
       "      <td>Latur</td>\n",
       "      <td>Ahmedpur</td>\n",
       "      <td>Wheat</td>\n",
       "      <td>Other</td>\n",
       "      <td>FAQ</td>\n",
       "      <td>2775</td>\n",
       "      <td>2775</td>\n",
       "      <td>2775</td>\n",
       "      <td>18-Jun-22</td>\n",
       "    </tr>\n",
       "    <tr>\n",
       "      <th>3</th>\n",
       "      <td>4</td>\n",
       "      <td>Latur</td>\n",
       "      <td>Ahmedpur</td>\n",
       "      <td>Wheat</td>\n",
       "      <td>Other</td>\n",
       "      <td>FAQ</td>\n",
       "      <td>1900</td>\n",
       "      <td>1900</td>\n",
       "      <td>1900</td>\n",
       "      <td>17-Jun-22</td>\n",
       "    </tr>\n",
       "    <tr>\n",
       "      <th>4</th>\n",
       "      <td>5</td>\n",
       "      <td>Latur</td>\n",
       "      <td>Ahmedpur</td>\n",
       "      <td>Wheat</td>\n",
       "      <td>Other</td>\n",
       "      <td>FAQ</td>\n",
       "      <td>2100</td>\n",
       "      <td>2560</td>\n",
       "      <td>2300</td>\n",
       "      <td>16-Jun-22</td>\n",
       "    </tr>\n",
       "  </tbody>\n",
       "</table>\n",
       "</div>"
      ],
      "text/plain": [
       "   Sl no. District Name Market Name Commodity Variety Grade  \\\n",
       "0       1         Latur    Ahmedpur     Wheat   Other   FAQ   \n",
       "1       2         Latur    Ahmedpur     Wheat   Other   FAQ   \n",
       "2       3         Latur    Ahmedpur     Wheat   Other   FAQ   \n",
       "3       4         Latur    Ahmedpur     Wheat   Other   FAQ   \n",
       "4       5         Latur    Ahmedpur     Wheat   Other   FAQ   \n",
       "\n",
       "   Min Price (Rs./Quintal)  Max Price (Rs./Quintal)  \\\n",
       "0                     2631                     2631   \n",
       "1                     2000                     2000   \n",
       "2                     2775                     2775   \n",
       "3                     1900                     1900   \n",
       "4                     2100                     2560   \n",
       "\n",
       "   Modal Price (Rs./Quintal) Price Date  \n",
       "0                       2631  30-Dec-22  \n",
       "1                       2000  27-Jun-22  \n",
       "2                       2775  18-Jun-22  \n",
       "3                       1900  17-Jun-22  \n",
       "4                       2300  16-Jun-22  "
      ]
     },
     "execution_count": 116,
     "metadata": {},
     "output_type": "execute_result"
    }
   ],
   "source": [
    "df.head()"
   ]
  },
  {
   "cell_type": "code",
   "execution_count": 7,
   "id": "34cb4b0d-4b1d-4fab-8f76-e844c5f1d2a3",
   "metadata": {},
   "outputs": [
    {
     "data": {
      "text/plain": [
       "Sl no.                       0\n",
       "District Name                0\n",
       "Market Name                  0\n",
       "Commodity                    0\n",
       "Variety                      0\n",
       "Grade                        0\n",
       "Min Price (Rs./Quintal)      0\n",
       "Max Price (Rs./Quintal)      0\n",
       "Modal Price (Rs./Quintal)    0\n",
       "Price Date                   0\n",
       "dtype: int64"
      ]
     },
     "execution_count": 7,
     "metadata": {},
     "output_type": "execute_result"
    }
   ],
   "source": [
    "df.isnull().sum()"
   ]
  },
  {
   "cell_type": "code",
   "execution_count": 9,
   "id": "8a0321e9-4d1d-4ac1-b825-e8d07e8e2d8d",
   "metadata": {},
   "outputs": [
    {
     "data": {
      "text/html": [
       "<div>\n",
       "<style scoped>\n",
       "    .dataframe tbody tr th:only-of-type {\n",
       "        vertical-align: middle;\n",
       "    }\n",
       "\n",
       "    .dataframe tbody tr th {\n",
       "        vertical-align: top;\n",
       "    }\n",
       "\n",
       "    .dataframe thead th {\n",
       "        text-align: right;\n",
       "    }\n",
       "</style>\n",
       "<table border=\"1\" class=\"dataframe\">\n",
       "  <thead>\n",
       "    <tr style=\"text-align: right;\">\n",
       "      <th></th>\n",
       "      <th>count</th>\n",
       "      <th>mean</th>\n",
       "      <th>std</th>\n",
       "      <th>min</th>\n",
       "      <th>25%</th>\n",
       "      <th>50%</th>\n",
       "      <th>75%</th>\n",
       "      <th>max</th>\n",
       "    </tr>\n",
       "  </thead>\n",
       "  <tbody>\n",
       "    <tr>\n",
       "      <th>Sl no.</th>\n",
       "      <td>1444.0</td>\n",
       "      <td>722.500000</td>\n",
       "      <td>416.991207</td>\n",
       "      <td>1.0</td>\n",
       "      <td>361.75</td>\n",
       "      <td>722.5</td>\n",
       "      <td>1083.25</td>\n",
       "      <td>1444.0</td>\n",
       "    </tr>\n",
       "    <tr>\n",
       "      <th>Min Price (Rs./Quintal)</th>\n",
       "      <td>1444.0</td>\n",
       "      <td>1355.992382</td>\n",
       "      <td>394.252640</td>\n",
       "      <td>140.0</td>\n",
       "      <td>1200.00</td>\n",
       "      <td>1360.0</td>\n",
       "      <td>1550.00</td>\n",
       "      <td>6581.0</td>\n",
       "    </tr>\n",
       "    <tr>\n",
       "      <th>Max Price (Rs./Quintal)</th>\n",
       "      <td>1444.0</td>\n",
       "      <td>1565.039474</td>\n",
       "      <td>430.558651</td>\n",
       "      <td>666.0</td>\n",
       "      <td>1350.00</td>\n",
       "      <td>1550.0</td>\n",
       "      <td>1800.00</td>\n",
       "      <td>6581.0</td>\n",
       "    </tr>\n",
       "    <tr>\n",
       "      <th>Modal Price (Rs./Quintal)</th>\n",
       "      <td>1444.0</td>\n",
       "      <td>1462.911357</td>\n",
       "      <td>392.528134</td>\n",
       "      <td>650.0</td>\n",
       "      <td>1325.00</td>\n",
       "      <td>1465.0</td>\n",
       "      <td>1715.00</td>\n",
       "      <td>6581.0</td>\n",
       "    </tr>\n",
       "  </tbody>\n",
       "</table>\n",
       "</div>"
      ],
      "text/plain": [
       "                            count         mean         std    min      25%  \\\n",
       "Sl no.                     1444.0   722.500000  416.991207    1.0   361.75   \n",
       "Min Price (Rs./Quintal)    1444.0  1355.992382  394.252640  140.0  1200.00   \n",
       "Max Price (Rs./Quintal)    1444.0  1565.039474  430.558651  666.0  1350.00   \n",
       "Modal Price (Rs./Quintal)  1444.0  1462.911357  392.528134  650.0  1325.00   \n",
       "\n",
       "                              50%      75%     max  \n",
       "Sl no.                      722.5  1083.25  1444.0  \n",
       "Min Price (Rs./Quintal)    1360.0  1550.00  6581.0  \n",
       "Max Price (Rs./Quintal)    1550.0  1800.00  6581.0  \n",
       "Modal Price (Rs./Quintal)  1465.0  1715.00  6581.0  "
      ]
     },
     "execution_count": 9,
     "metadata": {},
     "output_type": "execute_result"
    }
   ],
   "source": [
    "df.describe().transpose()"
   ]
  },
  {
   "cell_type": "code",
   "execution_count": 11,
   "id": "7fae8eb5-1cfb-425a-94a6-a2ff158f0f5d",
   "metadata": {},
   "outputs": [
    {
     "data": {
      "text/plain": [
       "Sl no.                        int64\n",
       "District Name                object\n",
       "Market Name                  object\n",
       "Commodity                    object\n",
       "Variety                      object\n",
       "Grade                        object\n",
       "Min Price (Rs./Quintal)       int64\n",
       "Max Price (Rs./Quintal)       int64\n",
       "Modal Price (Rs./Quintal)     int64\n",
       "Price Date                   object\n",
       "dtype: object"
      ]
     },
     "execution_count": 11,
     "metadata": {},
     "output_type": "execute_result"
    }
   ],
   "source": [
    "df.dtypes"
   ]
  },
  {
   "cell_type": "code",
   "execution_count": 16,
   "id": "67b2d915-0b14-48cd-abad-97a5f6f0b558",
   "metadata": {},
   "outputs": [],
   "source": [
    "df['Price Date'] = pd.to_datetime(df['Price Date'], errors='coerce', format='%Y-%m-%d')"
   ]
  },
  {
   "cell_type": "code",
   "execution_count": 17,
   "id": "c9e614d8-0ab2-4443-aace-01cb3a3f4793",
   "metadata": {},
   "outputs": [
    {
     "data": {
      "text/plain": [
       "Sl no.                                int64\n",
       "District Name                        object\n",
       "Market Name                          object\n",
       "Commodity                            object\n",
       "Variety                              object\n",
       "Grade                                object\n",
       "Min Price (Rs./Quintal)               int64\n",
       "Max Price (Rs./Quintal)               int64\n",
       "Modal Price (Rs./Quintal)             int64\n",
       "Price Date                   datetime64[ns]\n",
       "dtype: object"
      ]
     },
     "execution_count": 17,
     "metadata": {},
     "output_type": "execute_result"
    }
   ],
   "source": [
    "df.dtypes"
   ]
  },
  {
   "cell_type": "code",
   "execution_count": 18,
   "id": "6d3cc83b-d416-44a1-b13f-cc7f892940a9",
   "metadata": {},
   "outputs": [
    {
     "data": {
      "text/html": [
       "<div>\n",
       "<style scoped>\n",
       "    .dataframe tbody tr th:only-of-type {\n",
       "        vertical-align: middle;\n",
       "    }\n",
       "\n",
       "    .dataframe tbody tr th {\n",
       "        vertical-align: top;\n",
       "    }\n",
       "\n",
       "    .dataframe thead th {\n",
       "        text-align: right;\n",
       "    }\n",
       "</style>\n",
       "<table border=\"1\" class=\"dataframe\">\n",
       "  <thead>\n",
       "    <tr style=\"text-align: right;\">\n",
       "      <th></th>\n",
       "      <th>Sl no.</th>\n",
       "      <th>District Name</th>\n",
       "      <th>Market Name</th>\n",
       "      <th>Commodity</th>\n",
       "      <th>Variety</th>\n",
       "      <th>Grade</th>\n",
       "      <th>Min Price (Rs./Quintal)</th>\n",
       "      <th>Max Price (Rs./Quintal)</th>\n",
       "      <th>Modal Price (Rs./Quintal)</th>\n",
       "      <th>Price Date</th>\n",
       "    </tr>\n",
       "  </thead>\n",
       "  <tbody>\n",
       "    <tr>\n",
       "      <th>0</th>\n",
       "      <td>1</td>\n",
       "      <td>Latur</td>\n",
       "      <td>Ahmedpur</td>\n",
       "      <td>Wheat</td>\n",
       "      <td>Other</td>\n",
       "      <td>FAQ</td>\n",
       "      <td>2631</td>\n",
       "      <td>2631</td>\n",
       "      <td>2631</td>\n",
       "      <td>2022-12-30</td>\n",
       "    </tr>\n",
       "    <tr>\n",
       "      <th>1</th>\n",
       "      <td>2</td>\n",
       "      <td>Latur</td>\n",
       "      <td>Ahmedpur</td>\n",
       "      <td>Wheat</td>\n",
       "      <td>Other</td>\n",
       "      <td>FAQ</td>\n",
       "      <td>2000</td>\n",
       "      <td>2000</td>\n",
       "      <td>2000</td>\n",
       "      <td>2022-06-27</td>\n",
       "    </tr>\n",
       "    <tr>\n",
       "      <th>2</th>\n",
       "      <td>3</td>\n",
       "      <td>Latur</td>\n",
       "      <td>Ahmedpur</td>\n",
       "      <td>Wheat</td>\n",
       "      <td>Other</td>\n",
       "      <td>FAQ</td>\n",
       "      <td>2775</td>\n",
       "      <td>2775</td>\n",
       "      <td>2775</td>\n",
       "      <td>2022-06-18</td>\n",
       "    </tr>\n",
       "    <tr>\n",
       "      <th>3</th>\n",
       "      <td>4</td>\n",
       "      <td>Latur</td>\n",
       "      <td>Ahmedpur</td>\n",
       "      <td>Wheat</td>\n",
       "      <td>Other</td>\n",
       "      <td>FAQ</td>\n",
       "      <td>1900</td>\n",
       "      <td>1900</td>\n",
       "      <td>1900</td>\n",
       "      <td>2022-06-17</td>\n",
       "    </tr>\n",
       "    <tr>\n",
       "      <th>4</th>\n",
       "      <td>5</td>\n",
       "      <td>Latur</td>\n",
       "      <td>Ahmedpur</td>\n",
       "      <td>Wheat</td>\n",
       "      <td>Other</td>\n",
       "      <td>FAQ</td>\n",
       "      <td>2100</td>\n",
       "      <td>2560</td>\n",
       "      <td>2300</td>\n",
       "      <td>2022-06-16</td>\n",
       "    </tr>\n",
       "  </tbody>\n",
       "</table>\n",
       "</div>"
      ],
      "text/plain": [
       "   Sl no. District Name Market Name Commodity Variety Grade  \\\n",
       "0       1         Latur    Ahmedpur     Wheat   Other   FAQ   \n",
       "1       2         Latur    Ahmedpur     Wheat   Other   FAQ   \n",
       "2       3         Latur    Ahmedpur     Wheat   Other   FAQ   \n",
       "3       4         Latur    Ahmedpur     Wheat   Other   FAQ   \n",
       "4       5         Latur    Ahmedpur     Wheat   Other   FAQ   \n",
       "\n",
       "   Min Price (Rs./Quintal)  Max Price (Rs./Quintal)  \\\n",
       "0                     2631                     2631   \n",
       "1                     2000                     2000   \n",
       "2                     2775                     2775   \n",
       "3                     1900                     1900   \n",
       "4                     2100                     2560   \n",
       "\n",
       "   Modal Price (Rs./Quintal) Price Date  \n",
       "0                       2631 2022-12-30  \n",
       "1                       2000 2022-06-27  \n",
       "2                       2775 2022-06-18  \n",
       "3                       1900 2022-06-17  \n",
       "4                       2300 2022-06-16  "
      ]
     },
     "execution_count": 18,
     "metadata": {},
     "output_type": "execute_result"
    }
   ],
   "source": [
    "df.head()"
   ]
  },
  {
   "cell_type": "code",
   "execution_count": 19,
   "id": "b8e9e91d-75ee-428c-bd6d-2c00714940ad",
   "metadata": {},
   "outputs": [],
   "source": [
    "df.drop(\"District Name\", axis=1, inplace=True)"
   ]
  },
  {
   "cell_type": "code",
   "execution_count": 20,
   "id": "64d21f54-2de5-4d01-9d76-85210d725dea",
   "metadata": {},
   "outputs": [
    {
     "data": {
      "text/html": [
       "<div>\n",
       "<style scoped>\n",
       "    .dataframe tbody tr th:only-of-type {\n",
       "        vertical-align: middle;\n",
       "    }\n",
       "\n",
       "    .dataframe tbody tr th {\n",
       "        vertical-align: top;\n",
       "    }\n",
       "\n",
       "    .dataframe thead th {\n",
       "        text-align: right;\n",
       "    }\n",
       "</style>\n",
       "<table border=\"1\" class=\"dataframe\">\n",
       "  <thead>\n",
       "    <tr style=\"text-align: right;\">\n",
       "      <th></th>\n",
       "      <th>Sl no.</th>\n",
       "      <th>Market Name</th>\n",
       "      <th>Commodity</th>\n",
       "      <th>Variety</th>\n",
       "      <th>Grade</th>\n",
       "      <th>Min Price (Rs./Quintal)</th>\n",
       "      <th>Max Price (Rs./Quintal)</th>\n",
       "      <th>Modal Price (Rs./Quintal)</th>\n",
       "      <th>Price Date</th>\n",
       "    </tr>\n",
       "  </thead>\n",
       "  <tbody>\n",
       "    <tr>\n",
       "      <th>0</th>\n",
       "      <td>1</td>\n",
       "      <td>Ahmedpur</td>\n",
       "      <td>Wheat</td>\n",
       "      <td>Other</td>\n",
       "      <td>FAQ</td>\n",
       "      <td>2631</td>\n",
       "      <td>2631</td>\n",
       "      <td>2631</td>\n",
       "      <td>2022-12-30</td>\n",
       "    </tr>\n",
       "    <tr>\n",
       "      <th>1</th>\n",
       "      <td>2</td>\n",
       "      <td>Ahmedpur</td>\n",
       "      <td>Wheat</td>\n",
       "      <td>Other</td>\n",
       "      <td>FAQ</td>\n",
       "      <td>2000</td>\n",
       "      <td>2000</td>\n",
       "      <td>2000</td>\n",
       "      <td>2022-06-27</td>\n",
       "    </tr>\n",
       "    <tr>\n",
       "      <th>2</th>\n",
       "      <td>3</td>\n",
       "      <td>Ahmedpur</td>\n",
       "      <td>Wheat</td>\n",
       "      <td>Other</td>\n",
       "      <td>FAQ</td>\n",
       "      <td>2775</td>\n",
       "      <td>2775</td>\n",
       "      <td>2775</td>\n",
       "      <td>2022-06-18</td>\n",
       "    </tr>\n",
       "    <tr>\n",
       "      <th>3</th>\n",
       "      <td>4</td>\n",
       "      <td>Ahmedpur</td>\n",
       "      <td>Wheat</td>\n",
       "      <td>Other</td>\n",
       "      <td>FAQ</td>\n",
       "      <td>1900</td>\n",
       "      <td>1900</td>\n",
       "      <td>1900</td>\n",
       "      <td>2022-06-17</td>\n",
       "    </tr>\n",
       "    <tr>\n",
       "      <th>4</th>\n",
       "      <td>5</td>\n",
       "      <td>Ahmedpur</td>\n",
       "      <td>Wheat</td>\n",
       "      <td>Other</td>\n",
       "      <td>FAQ</td>\n",
       "      <td>2100</td>\n",
       "      <td>2560</td>\n",
       "      <td>2300</td>\n",
       "      <td>2022-06-16</td>\n",
       "    </tr>\n",
       "  </tbody>\n",
       "</table>\n",
       "</div>"
      ],
      "text/plain": [
       "   Sl no. Market Name Commodity Variety Grade  Min Price (Rs./Quintal)  \\\n",
       "0       1    Ahmedpur     Wheat   Other   FAQ                     2631   \n",
       "1       2    Ahmedpur     Wheat   Other   FAQ                     2000   \n",
       "2       3    Ahmedpur     Wheat   Other   FAQ                     2775   \n",
       "3       4    Ahmedpur     Wheat   Other   FAQ                     1900   \n",
       "4       5    Ahmedpur     Wheat   Other   FAQ                     2100   \n",
       "\n",
       "   Max Price (Rs./Quintal)  Modal Price (Rs./Quintal) Price Date  \n",
       "0                     2631                       2631 2022-12-30  \n",
       "1                     2000                       2000 2022-06-27  \n",
       "2                     2775                       2775 2022-06-18  \n",
       "3                     1900                       1900 2022-06-17  \n",
       "4                     2560                       2300 2022-06-16  "
      ]
     },
     "execution_count": 20,
     "metadata": {},
     "output_type": "execute_result"
    }
   ],
   "source": [
    "df.head()"
   ]
  },
  {
   "cell_type": "code",
   "execution_count": 21,
   "id": "89d19b00-c0cc-4a36-ad52-7306a7149215",
   "metadata": {},
   "outputs": [],
   "source": [
    "df.drop(\"Sl no.\", axis=1, inplace=True)\n",
    "df.drop(\"Commodity\", axis=1, inplace=True)\n",
    "df.drop(\"Market Name\", axis=1, inplace=True)\n",
    "df.drop(\"Variety\", axis=1, inplace=True)\n",
    "df.drop(\"Grade\", axis=1, inplace=True)"
   ]
  },
  {
   "cell_type": "code",
   "execution_count": 22,
   "id": "1458c22f-95bc-4655-8dc9-2355d5acda54",
   "metadata": {},
   "outputs": [
    {
     "data": {
      "text/html": [
       "<div>\n",
       "<style scoped>\n",
       "    .dataframe tbody tr th:only-of-type {\n",
       "        vertical-align: middle;\n",
       "    }\n",
       "\n",
       "    .dataframe tbody tr th {\n",
       "        vertical-align: top;\n",
       "    }\n",
       "\n",
       "    .dataframe thead th {\n",
       "        text-align: right;\n",
       "    }\n",
       "</style>\n",
       "<table border=\"1\" class=\"dataframe\">\n",
       "  <thead>\n",
       "    <tr style=\"text-align: right;\">\n",
       "      <th></th>\n",
       "      <th>Min Price (Rs./Quintal)</th>\n",
       "      <th>Max Price (Rs./Quintal)</th>\n",
       "      <th>Modal Price (Rs./Quintal)</th>\n",
       "      <th>Price Date</th>\n",
       "    </tr>\n",
       "  </thead>\n",
       "  <tbody>\n",
       "    <tr>\n",
       "      <th>0</th>\n",
       "      <td>2631</td>\n",
       "      <td>2631</td>\n",
       "      <td>2631</td>\n",
       "      <td>2022-12-30</td>\n",
       "    </tr>\n",
       "    <tr>\n",
       "      <th>1</th>\n",
       "      <td>2000</td>\n",
       "      <td>2000</td>\n",
       "      <td>2000</td>\n",
       "      <td>2022-06-27</td>\n",
       "    </tr>\n",
       "    <tr>\n",
       "      <th>2</th>\n",
       "      <td>2775</td>\n",
       "      <td>2775</td>\n",
       "      <td>2775</td>\n",
       "      <td>2022-06-18</td>\n",
       "    </tr>\n",
       "    <tr>\n",
       "      <th>3</th>\n",
       "      <td>1900</td>\n",
       "      <td>1900</td>\n",
       "      <td>1900</td>\n",
       "      <td>2022-06-17</td>\n",
       "    </tr>\n",
       "    <tr>\n",
       "      <th>4</th>\n",
       "      <td>2100</td>\n",
       "      <td>2560</td>\n",
       "      <td>2300</td>\n",
       "      <td>2022-06-16</td>\n",
       "    </tr>\n",
       "  </tbody>\n",
       "</table>\n",
       "</div>"
      ],
      "text/plain": [
       "   Min Price (Rs./Quintal)  Max Price (Rs./Quintal)  \\\n",
       "0                     2631                     2631   \n",
       "1                     2000                     2000   \n",
       "2                     2775                     2775   \n",
       "3                     1900                     1900   \n",
       "4                     2100                     2560   \n",
       "\n",
       "   Modal Price (Rs./Quintal) Price Date  \n",
       "0                       2631 2022-12-30  \n",
       "1                       2000 2022-06-27  \n",
       "2                       2775 2022-06-18  \n",
       "3                       1900 2022-06-17  \n",
       "4                       2300 2022-06-16  "
      ]
     },
     "execution_count": 22,
     "metadata": {},
     "output_type": "execute_result"
    }
   ],
   "source": [
    "df.head()"
   ]
  },
  {
   "cell_type": "code",
   "execution_count": 23,
   "id": "e2b2dec9-c44c-4feb-aadf-3389b7d4fa88",
   "metadata": {},
   "outputs": [
    {
     "data": {
      "text/html": [
       "<div>\n",
       "<style scoped>\n",
       "    .dataframe tbody tr th:only-of-type {\n",
       "        vertical-align: middle;\n",
       "    }\n",
       "\n",
       "    .dataframe tbody tr th {\n",
       "        vertical-align: top;\n",
       "    }\n",
       "\n",
       "    .dataframe thead th {\n",
       "        text-align: right;\n",
       "    }\n",
       "</style>\n",
       "<table border=\"1\" class=\"dataframe\">\n",
       "  <thead>\n",
       "    <tr style=\"text-align: right;\">\n",
       "      <th></th>\n",
       "      <th>Min Price (Rs./Quintal)</th>\n",
       "      <th>Max Price (Rs./Quintal)</th>\n",
       "      <th>Modal Price (Rs./Quintal)</th>\n",
       "      <th>Price Date</th>\n",
       "    </tr>\n",
       "  </thead>\n",
       "  <tbody>\n",
       "    <tr>\n",
       "      <th>Min Price (Rs./Quintal)</th>\n",
       "      <td>1.000000</td>\n",
       "      <td>0.811313</td>\n",
       "      <td>0.926250</td>\n",
       "      <td>0.827169</td>\n",
       "    </tr>\n",
       "    <tr>\n",
       "      <th>Max Price (Rs./Quintal)</th>\n",
       "      <td>0.811313</td>\n",
       "      <td>1.000000</td>\n",
       "      <td>0.957548</td>\n",
       "      <td>0.717562</td>\n",
       "    </tr>\n",
       "    <tr>\n",
       "      <th>Modal Price (Rs./Quintal)</th>\n",
       "      <td>0.926250</td>\n",
       "      <td>0.957548</td>\n",
       "      <td>1.000000</td>\n",
       "      <td>0.796352</td>\n",
       "    </tr>\n",
       "    <tr>\n",
       "      <th>Price Date</th>\n",
       "      <td>0.827169</td>\n",
       "      <td>0.717562</td>\n",
       "      <td>0.796352</td>\n",
       "      <td>1.000000</td>\n",
       "    </tr>\n",
       "  </tbody>\n",
       "</table>\n",
       "</div>"
      ],
      "text/plain": [
       "                           Min Price (Rs./Quintal)  Max Price (Rs./Quintal)  \\\n",
       "Min Price (Rs./Quintal)                   1.000000                 0.811313   \n",
       "Max Price (Rs./Quintal)                   0.811313                 1.000000   \n",
       "Modal Price (Rs./Quintal)                 0.926250                 0.957548   \n",
       "Price Date                                0.827169                 0.717562   \n",
       "\n",
       "                           Modal Price (Rs./Quintal)  Price Date  \n",
       "Min Price (Rs./Quintal)                     0.926250    0.827169  \n",
       "Max Price (Rs./Quintal)                     0.957548    0.717562  \n",
       "Modal Price (Rs./Quintal)                   1.000000    0.796352  \n",
       "Price Date                                  0.796352    1.000000  "
      ]
     },
     "execution_count": 23,
     "metadata": {},
     "output_type": "execute_result"
    }
   ],
   "source": [
    "df.corr()"
   ]
  },
  {
   "cell_type": "code",
   "execution_count": 25,
   "id": "8c456d13-828d-4611-ae2a-7e8207cb6834",
   "metadata": {},
   "outputs": [],
   "source": [
    "import seaborn as sns\n",
    "import matplotlib.pyplot as plt"
   ]
  },
  {
   "cell_type": "code",
   "execution_count": 26,
   "id": "a988c965-217b-49c6-ad98-2a2a2667fe89",
   "metadata": {},
   "outputs": [
    {
     "name": "stderr",
     "output_type": "stream",
     "text": [
      "C:\\Users\\ajitk\\anaconda3\\lib\\site-packages\\seaborn\\axisgrid.py:118: UserWarning: The figure layout has changed to tight\n",
      "  self._figure.tight_layout(*args, **kwargs)\n"
     ]
    },
    {
     "data": {
      "text/plain": [
       "<seaborn.axisgrid.PairGrid at 0x1a394f8e220>"
      ]
     },
     "execution_count": 26,
     "metadata": {},
     "output_type": "execute_result"
    },
    {
     "data": {
      "image/png": "[encoded data removed]",
      "text/plain": [
       "<Figure size 750x750 with 12 Axes>"
      ]
     },
     "metadata": {},
     "output_type": "display_data"
    }
   ],
   "source": [
    "sns.pairplot(df)"
   ]
  },
  {
   "cell_type": "code",
   "execution_count": 27,
   "id": "a9d33bb0-4c09-4a7d-b211-41bc61fe00c8",
   "metadata": {},
   "outputs": [],
   "source": [
    "df['date'] = pd.to_datetime(df['Price Date'])"
   ]
  },
  {
   "cell_type": "code",
   "execution_count": 50,
   "id": "6f1a7f10-e4e0-4e1d-8141-d492dd155705",
   "metadata": {},
   "outputs": [],
   "source": [
    "df['day'] = df['Price Date'].apply(lambda date:date.day)"
   ]
  },
  {
   "cell_type": "code",
   "execution_count": 28,
   "id": "c3dbf889-0001-445c-93c9-90991f0a14d9",
   "metadata": {},
   "outputs": [],
   "source": [
    "df['month'] = df['Price Date'].apply(lambda date:date.month)"
   ]
  },
  {
   "cell_type": "code",
   "execution_count": 29,
   "id": "3c1e9c96-6f67-460d-8248-bf818f81893b",
   "metadata": {},
   "outputs": [],
   "source": [
    "df['year'] = df['Price Date'].apply(lambda date:date.year)"
   ]
  },
  {
   "cell_type": "code",
   "execution_count": 51,
   "id": "6aa5f805-4da9-4ae5-a231-9cd1c3bc6ed6",
   "metadata": {},
   "outputs": [],
   "source": [
    "df['day_numeric'] = df['day'].astype(int) // 10**9"
   ]
  },
  {
   "cell_type": "code",
   "execution_count": 52,
   "id": "ca420f7e-8ad8-4fba-be56-354284747eba",
   "metadata": {},
   "outputs": [],
   "source": [
    "df['month_numeric'] = df['month'].astype(int) // 10**9"
   ]
  },
  {
   "cell_type": "code",
   "execution_count": 53,
   "id": "04ae149b-7a0b-485c-8dae-0fde111a6a4b",
   "metadata": {},
   "outputs": [],
   "source": [
    "df['year_numeric'] = df['year'].astype(int) // 10**9"
   ]
  },
  {
   "cell_type": "code",
   "execution_count": 32,
   "id": "26377799-673f-4cbf-be1e-deaa7d005530",
   "metadata": {},
   "outputs": [
    {
     "data": {
      "text/plain": [
       "<Axes: xlabel='year', ylabel='Modal Price (Rs./Quintal)'>"
      ]
     },
     "execution_count": 32,
     "metadata": {},
     "output_type": "execute_result"
    },
    {
     "data": {
      "image/png": "[encoded data removed]",
      "text/plain": [
       "<Figure size 1000x600 with 1 Axes>"
      ]
     },
     "metadata": {},
     "output_type": "display_data"
    }
   ],
   "source": [
    "plt.figure(figsize=(10,6))\n",
    "sns.boxplot(x='year',y='Modal Price (Rs./Quintal)',data=df)"
   ]
  },
  {
   "cell_type": "code",
   "execution_count": 33,
   "id": "53b36606-b01b-4844-8fcc-2402a77f7c5a",
   "metadata": {},
   "outputs": [
    {
     "data": {
      "text/plain": [
       "<Axes: xlabel='month', ylabel='Modal Price (Rs./Quintal)'>"
      ]
     },
     "execution_count": 33,
     "metadata": {},
     "output_type": "execute_result"
    },
    {
     "data": {
      "image/png": "[encoded data removed]",
      "text/plain": [
       "<Figure size 1000x600 with 1 Axes>"
      ]
     },
     "metadata": {},
     "output_type": "display_data"
    }
   ],
   "source": [
    "plt.figure(figsize=(10,6))\n",
    "sns.boxplot(x='month',y='Modal Price (Rs./Quintal)',data=df)"
   ]
  },
  {
   "cell_type": "code",
   "execution_count": 34,
   "id": "a370fc48-e35c-4525-947d-e2e4f8361559",
   "metadata": {},
   "outputs": [
    {
     "data": {
      "image/png": "[encoded data removed]",
      "text/plain": [
       "<Figure size 640x480 with 1 Axes>"
      ]
     },
     "metadata": {},
     "output_type": "display_data"
    }
   ],
   "source": [
    "plt.bar(df['month'].value_counts().index, df['month'].value_counts().values)\n",
    "plt.show()"
   ]
  },
  {
   "cell_type": "code",
   "execution_count": 37,
   "id": "017bb8c6-baa9-4e12-8107-118ce3e49c22",
   "metadata": {},
   "outputs": [
    {
     "data": {
      "image/png": "[encoded data removed]",
      "text/plain": [
       "<Figure size 640x480 with 1 Axes>"
      ]
     },
     "metadata": {},
     "output_type": "display_data"
    }
   ],
   "source": [
    "plt.bar(df['year'].value_counts().index, df['year'].value_counts().values)\n",
    "plt.show()"
   ]
  },
  {
   "cell_type": "code",
   "execution_count": 40,
   "id": "447ca8bf-81b0-4c11-b332-85fe833fb473",
   "metadata": {},
   "outputs": [],
   "source": [
    "from sklearn.model_selection import train_test_split"
   ]
  },
  {
   "cell_type": "code",
   "execution_count": 56,
   "id": "ab4dbc23-e17e-4488-a67f-156920e6deee",
   "metadata": {},
   "outputs": [],
   "source": [
    "# Convert Pandas to Numpy for Keras\n",
    "\n",
    "# Features\n",
    "X = df[['day_numeric','month_numeric','year_numeric']].values\n",
    "\n",
    "# Label\n",
    "y = df['Modal Price (Rs./Quintal)'].values\n",
    "\n",
    "# Split\n",
    "X_train, X_test, y_train, y_test = train_test_split(X,y,test_size=0.3,random_state=42)"
   ]
  },
  {
   "cell_type": "code",
   "execution_count": 57,
   "id": "e34bb738-08a3-4b60-9c4f-1fcfcd613081",
   "metadata": {},
   "outputs": [
    {
     "data": {
      "text/plain": [
       "(1010, 3)"
      ]
     },
     "execution_count": 57,
     "metadata": {},
     "output_type": "execute_result"
    }
   ],
   "source": [
    "X_train.shape"
   ]
  },
  {
   "cell_type": "code",
   "execution_count": 58,
   "id": "0116005a-5768-43ca-b9ed-6d086fc690fc",
   "metadata": {},
   "outputs": [
    {
     "data": {
      "text/plain": [
       "(434, 3)"
      ]
     },
     "execution_count": 58,
     "metadata": {},
     "output_type": "execute_result"
    }
   ],
   "source": [
    "X_test.shape"
   ]
  },
  {
   "cell_type": "code",
   "execution_count": 59,
   "id": "d90f1c99-6c07-4f25-8633-955011f0d48f",
   "metadata": {},
   "outputs": [
    {
     "data": {
      "text/plain": [
       "(1010,)"
      ]
     },
     "execution_count": 59,
     "metadata": {},
     "output_type": "execute_result"
    }
   ],
   "source": [
    "y_train.shape"
   ]
  },
  {
   "cell_type": "code",
   "execution_count": 60,
   "id": "c4e7741c-641b-46f9-8238-8eb60e3d3d09",
   "metadata": {},
   "outputs": [
    {
     "data": {
      "text/plain": [
       "(434,)"
      ]
     },
     "execution_count": 60,
     "metadata": {},
     "output_type": "execute_result"
    }
   ],
   "source": [
    "y_test.shape"
   ]
  },
  {
   "cell_type": "code",
   "execution_count": 61,
   "id": "e3fc3c9c-2bad-4e0f-9c4f-d96dee1332e8",
   "metadata": {},
   "outputs": [],
   "source": [
    "# Normalizing\n",
    "from sklearn.preprocessing import MinMaxScaler"
   ]
  },
  {
   "cell_type": "code",
   "execution_count": 62,
   "id": "08c21e3d-ff06-4e96-a681-40eb2ea4b360",
   "metadata": {},
   "outputs": [],
   "source": [
    "scaler = MinMaxScaler()"
   ]
  },
  {
   "cell_type": "code",
   "execution_count": 63,
   "id": "e08adc9d-ee42-49a4-ba7b-c2939876f294",
   "metadata": {},
   "outputs": [
    {
     "data": {
      "text/html": [
       "<style>#sk-container-id-1 {color: black;}#sk-container-id-1 pre{padding: 0;}#sk-container-id-1 div.sk-toggleable {background-color: white;}#sk-container-id-1 label.sk-toggleable__label {cursor: pointer;display: block;width: 100%;margin-bottom: 0;padding: 0.3em;box-sizing: border-box;text-align: center;}#sk-container-id-1 label.sk-toggleable__label-arrow:before {content: \"▸\";float: left;margin-right: 0.25em;color: #696969;}#sk-container-id-1 label.sk-toggleable__label-arrow:hover:before {color: black;}#sk-container-id-1 div.sk-estimator:hover label.sk-toggleable__label-arrow:before {color: black;}#sk-container-id-1 div.sk-toggleable__content {max-height: 0;max-width: 0;overflow: hidden;text-align: left;background-color: #f0f8ff;}#sk-container-id-1 div.sk-toggleable__content pre {margin: 0.2em;color: black;border-radius: 0.25em;background-color: #f0f8ff;}#sk-container-id-1 input.sk-toggleable__control:checked~div.sk-toggleable__content {max-height: 200px;max-width: 100%;overflow: auto;}#sk-container-id-1 input.sk-toggleable__control:checked~label.sk-toggleable__label-arrow:before {content: \"▾\";}#sk-container-id-1 div.sk-estimator input.sk-toggleable__control:checked~label.sk-toggleable__label {background-color: #d4ebff;}#sk-container-id-1 div.sk-label input.sk-toggleable__control:checked~label.sk-toggleable__label {background-color: #d4ebff;}#sk-container-id-1 input.sk-hidden--visually {border: 0;clip: rect(1px 1px 1px 1px);clip: rect(1px, 1px, 1px, 1px);height: 1px;margin: -1px;overflow: hidden;padding: 0;position: absolute;width: 1px;}#sk-container-id-1 div.sk-estimator {font-family: monospace;background-color: #f0f8ff;border: 1px dotted black;border-radius: 0.25em;box-sizing: border-box;margin-bottom: 0.5em;}#sk-container-id-1 div.sk-estimator:hover {background-color: #d4ebff;}#sk-container-id-1 div.sk-parallel-item::after {content: \"\";width: 100%;border-bottom: 1px solid gray;flex-grow: 1;}#sk-container-id-1 div.sk-label:hover label.sk-toggleable__label {background-color: #d4ebff;}#sk-container-id-1 div.sk-serial::before {content: \"\";position: absolute;border-left: 1px solid gray;box-sizing: border-box;top: 0;bottom: 0;left: 50%;z-index: 0;}#sk-container-id-1 div.sk-serial {display: flex;flex-direction: column;align-items: center;background-color: white;padding-right: 0.2em;padding-left: 0.2em;position: relative;}#sk-container-id-1 div.sk-item {position: relative;z-index: 1;}#sk-container-id-1 div.sk-parallel {display: flex;align-items: stretch;justify-content: center;background-color: white;position: relative;}#sk-container-id-1 div.sk-item::before, #sk-container-id-1 div.sk-parallel-item::before {content: \"\";position: absolute;border-left: 1px solid gray;box-sizing: border-box;top: 0;bottom: 0;left: 50%;z-index: -1;}#sk-container-id-1 div.sk-parallel-item {display: flex;flex-direction: column;z-index: 1;position: relative;background-color: white;}#sk-container-id-1 div.sk-parallel-item:first-child::after {align-self: flex-end;width: 50%;}#sk-container-id-1 div.sk-parallel-item:last-child::after {align-self: flex-start;width: 50%;}#sk-container-id-1 div.sk-parallel-item:only-child::after {width: 0;}#sk-container-id-1 div.sk-dashed-wrapped {border: 1px dashed gray;margin: 0 0.4em 0.5em 0.4em;box-sizing: border-box;padding-bottom: 0.4em;background-color: white;}#sk-container-id-1 div.sk-label label {font-family: monospace;font-weight: bold;display: inline-block;line-height: 1.2em;}#sk-container-id-1 div.sk-label-container {text-align: center;}#sk-container-id-1 div.sk-container {/* jupyter's `normalize.less` sets `[hidden] { display: none; }` but bootstrap.min.css set `[hidden] { display: none !important; }` so we also need the `!important` here to be able to override the default hidden behavior on the sphinx rendered scikit-learn.org. See: https://github.com/scikit-learn/scikit-learn/issues/21755 */display: inline-block !important;position: relative;}#sk-container-id-1 div.sk-text-repr-fallback {display: none;}</style><div id=\"sk-container-id-1\" class=\"sk-top-container\"><div class=\"sk-text-repr-fallback\"><pre>MinMaxScaler()</pre><b>In a Jupyter environment, please rerun this cell to show the HTML representation or trust the notebook. <br />On GitHub, the HTML representation is unable to render, please try loading this page with nbviewer.org.</b></div><div class=\"sk-container\" hidden><div class=\"sk-item\"><div class=\"sk-estimator sk-toggleable\"><input class=\"sk-toggleable__control sk-hidden--visually\" id=\"sk-estimator-id-1\" type=\"checkbox\" checked><label for=\"sk-estimator-id-1\" class=\"sk-toggleable__label sk-toggleable__label-arrow\">MinMaxScaler</label><div class=\"sk-toggleable__content\"><pre>MinMaxScaler()</pre></div></div></div></div></div>"
      ],
      "text/plain": [
       "MinMaxScaler()"
      ]
     },
     "execution_count": 63,
     "metadata": {},
     "output_type": "execute_result"
    }
   ],
   "source": [
    "scaler.fit(X_train)"
   ]
  },
  {
   "cell_type": "code",
   "execution_count": 64,
   "id": "cc8f953a-cffc-40db-97bd-97f056514b17",
   "metadata": {},
   "outputs": [],
   "source": [
    "X_train = scaler.transform(X_train)\n",
    "X_test = scaler.transform(X_test)"
   ]
  },
  {
   "cell_type": "code",
   "execution_count": 65,
   "id": "71d93c15-ff15-4138-a09e-24b52bcd9fd3",
   "metadata": {},
   "outputs": [],
   "source": [
    "import tensorflow as tf"
   ]
  },
  {
   "cell_type": "code",
   "execution_count": 66,
   "id": "6a3fb823-e5ca-4860-935e-2ad1b0464200",
   "metadata": {},
   "outputs": [],
   "source": [
    "from tensorflow.keras.models import Sequential"
   ]
  },
  {
   "cell_type": "code",
   "execution_count": 68,
   "id": "28b9e5ad-120d-48f3-9ac4-04ad633b6cb8",
   "metadata": {},
   "outputs": [],
   "source": [
    "from tensorflow.keras.layers import Dense, Activation"
   ]
  },
  {
   "cell_type": "code",
   "execution_count": 69,
   "id": "4bb4540f-37b9-4463-86f2-4790c04a13dd",
   "metadata": {},
   "outputs": [],
   "source": [
    "model = Sequential([\n",
    "    Dense(units=3),\n",
    "    Dense(units=3),\n",
    "    Dense(units=3)\n",
    "])"
   ]
  },
  {
   "cell_type": "code",
   "execution_count": 70,
   "id": "b013d6b4-9788-4b5d-bd7d-24f579f90250",
   "metadata": {},
   "outputs": [],
   "source": [
    "model = Sequential()\n",
    "\n",
    "model.add(Dense(3))\n",
    "model.add(Dense(3))\n",
    "model.add(Dense(3))"
   ]
  },
  {
   "cell_type": "code",
   "execution_count": 71,
   "id": "6a25e0d2-6084-44c7-a051-a6fd8d592020",
   "metadata": {},
   "outputs": [],
   "source": [
    "model = Sequential()\n",
    "\n",
    "model.add(Dense(6,activation='relu'))\n",
    "model.add(Dense(6,activation='relu'))\n",
    "model.add(Dense(6,activation='relu'))\n",
    "\n",
    "# Final output node for prediction\n",
    "model.add(Dense(1))\n",
    "\n",
    "model.compile(optimizer='rmsprop',loss='mse')  # mse: mean squared error"
   ]
  },
  {
   "cell_type": "code",
   "execution_count": 72,
   "id": "f76f3125-cf44-4e93-a49d-73c6fad60130",
   "metadata": {},
   "outputs": [
    {
     "name": "stdout",
     "output_type": "stream",
     "text": [
      "Epoch 1/250\n",
      "32/32 [==============================] - 2s 4ms/step - loss: 2298573.5000\n",
      "Epoch 2/250\n",
      "32/32 [==============================] - 0s 4ms/step - loss: 2298474.7500\n",
      "Epoch 3/250\n",
      "32/32 [==============================] - 0s 4ms/step - loss: 2298382.0000\n",
      "Epoch 4/250\n",
      "32/32 [==============================] - 0s 4ms/step - loss: 2298288.2500\n",
      "Epoch 5/250\n",
      "32/32 [==============================] - 0s 4ms/step - loss: 2298195.0000\n",
      "Epoch 6/250\n",
      "32/32 [==============================] - 0s 4ms/step - loss: 2298101.7500\n",
      "Epoch 7/250\n",
      "32/32 [==============================] - 0s 4ms/step - loss: 2298008.7500\n",
      "Epoch 8/250\n",
      "32/32 [==============================] - 0s 4ms/step - loss: 2297915.2500\n",
      "Epoch 9/250\n",
      "32/32 [==============================] - 0s 4ms/step - loss: 2297821.2500\n",
      "Epoch 10/250\n",
      "32/32 [==============================] - 0s 5ms/step - loss: 2297728.2500\n",
      "Epoch 11/250\n",
      "32/32 [==============================] - 0s 5ms/step - loss: 2297635.0000\n",
      "Epoch 12/250\n",
      "32/32 [==============================] - 0s 4ms/step - loss: 2297541.7500\n",
      "Epoch 13/250\n",
      "32/32 [==============================] - 0s 5ms/step - loss: 2297448.7500\n",
      "Epoch 14/250\n",
      "32/32 [==============================] - 0s 5ms/step - loss: 2297355.7500\n",
      "Epoch 15/250\n",
      "32/32 [==============================] - 0s 5ms/step - loss: 2297261.5000\n",
      "Epoch 16/250\n",
      "32/32 [==============================] - 0s 5ms/step - loss: 2297168.5000\n",
      "Epoch 17/250\n",
      "32/32 [==============================] - 0s 4ms/step - loss: 2297075.2500\n",
      "Epoch 18/250\n",
      "32/32 [==============================] - 0s 5ms/step - loss: 2296982.0000\n",
      "Epoch 19/250\n",
      "32/32 [==============================] - 0s 5ms/step - loss: 2296888.7500\n",
      "Epoch 20/250\n",
      "32/32 [==============================] - 0s 5ms/step - loss: 2296795.7500\n",
      "Epoch 21/250\n",
      "32/32 [==============================] - 0s 5ms/step - loss: 2296702.2500\n",
      "Epoch 22/250\n",
      "32/32 [==============================] - 0s 4ms/step - loss: 2296608.5000\n",
      "Epoch 23/250\n",
      "32/32 [==============================] - 0s 5ms/step - loss: 2296515.7500\n",
      "Epoch 24/250\n",
      "32/32 [==============================] - 0s 4ms/step - loss: 2296422.2500\n",
      "Epoch 25/250\n",
      "32/32 [==============================] - 0s 6ms/step - loss: 2296329.0000\n",
      "Epoch 26/250\n",
      "32/32 [==============================] - 0s 3ms/step - loss: 2296235.2500\n",
      "Epoch 27/250\n",
      "32/32 [==============================] - 0s 3ms/step - loss: 2296141.7500\n",
      "Epoch 28/250\n",
      "32/32 [==============================] - 0s 3ms/step - loss: 2296048.7500\n",
      "Epoch 29/250\n",
      "32/32 [==============================] - 0s 3ms/step - loss: 2295955.5000\n",
      "Epoch 30/250\n",
      "32/32 [==============================] - 0s 3ms/step - loss: 2295862.2500\n",
      "Epoch 31/250\n",
      "32/32 [==============================] - 0s 3ms/step - loss: 2295769.5000\n",
      "Epoch 32/250\n",
      "32/32 [==============================] - 0s 3ms/step - loss: 2295676.5000\n",
      "Epoch 33/250\n",
      "32/32 [==============================] - 0s 3ms/step - loss: 2295583.0000\n",
      "Epoch 34/250\n",
      "32/32 [==============================] - 0s 3ms/step - loss: 2295489.5000\n",
      "Epoch 35/250\n",
      "32/32 [==============================] - 0s 3ms/step - loss: 2295396.0000\n",
      "Epoch 36/250\n",
      "32/32 [==============================] - 0s 4ms/step - loss: 2295303.0000\n",
      "Epoch 37/250\n",
      "32/32 [==============================] - 0s 3ms/step - loss: 2295209.7500\n",
      "Epoch 38/250\n",
      "32/32 [==============================] - 0s 5ms/step - loss: 2295116.5000\n",
      "Epoch 39/250\n",
      "32/32 [==============================] - 0s 5ms/step - loss: 2295023.2500\n",
      "Epoch 40/250\n",
      "32/32 [==============================] - 0s 4ms/step - loss: 2294929.2500\n",
      "Epoch 41/250\n",
      "32/32 [==============================] - 0s 4ms/step - loss: 2294836.2500\n",
      "Epoch 42/250\n",
      "32/32 [==============================] - 0s 4ms/step - loss: 2294743.7500\n",
      "Epoch 43/250\n",
      "32/32 [==============================] - 0s 4ms/step - loss: 2294650.2500\n",
      "Epoch 44/250\n",
      "32/32 [==============================] - 0s 4ms/step - loss: 2294556.5000\n",
      "Epoch 45/250\n",
      "32/32 [==============================] - 0s 4ms/step - loss: 2294463.5000\n",
      "Epoch 46/250\n",
      "32/32 [==============================] - 0s 4ms/step - loss: 2294370.2500\n",
      "Epoch 47/250\n",
      "32/32 [==============================] - 0s 4ms/step - loss: 2294276.7500\n",
      "Epoch 48/250\n",
      "32/32 [==============================] - 0s 4ms/step - loss: 2294184.2500\n",
      "Epoch 49/250\n",
      "32/32 [==============================] - 0s 4ms/step - loss: 2294090.0000\n",
      "Epoch 50/250\n",
      "32/32 [==============================] - 0s 3ms/step - loss: 2293997.0000\n",
      "Epoch 51/250\n",
      "32/32 [==============================] - 0s 4ms/step - loss: 2293903.5000\n",
      "Epoch 52/250\n",
      "32/32 [==============================] - 0s 4ms/step - loss: 2293811.0000\n",
      "Epoch 53/250\n",
      "32/32 [==============================] - 0s 4ms/step - loss: 2293717.7500\n",
      "Epoch 54/250\n",
      "32/32 [==============================] - 0s 4ms/step - loss: 2293624.5000\n",
      "Epoch 55/250\n",
      "32/32 [==============================] - 0s 5ms/step - loss: 2293531.2500\n",
      "Epoch 56/250\n",
      "32/32 [==============================] - 0s 4ms/step - loss: 2293438.0000\n",
      "Epoch 57/250\n",
      "32/32 [==============================] - 0s 4ms/step - loss: 2293344.7500\n",
      "Epoch 58/250\n",
      "32/32 [==============================] - 0s 3ms/step - loss: 2293251.5000\n",
      "Epoch 59/250\n",
      "32/32 [==============================] - 0s 3ms/step - loss: 2293158.0000\n",
      "Epoch 60/250\n",
      "32/32 [==============================] - 0s 4ms/step - loss: 2293064.5000\n",
      "Epoch 61/250\n",
      "32/32 [==============================] - 0s 4ms/step - loss: 2292971.7500\n",
      "Epoch 62/250\n",
      "32/32 [==============================] - 0s 5ms/step - loss: 2292878.7500\n",
      "Epoch 63/250\n",
      "32/32 [==============================] - 0s 4ms/step - loss: 2292785.7500\n",
      "Epoch 64/250\n",
      "32/32 [==============================] - 0s 5ms/step - loss: 2292692.5000\n",
      "Epoch 65/250\n",
      "32/32 [==============================] - 0s 5ms/step - loss: 2292599.2500\n",
      "Epoch 66/250\n",
      "32/32 [==============================] - 0s 5ms/step - loss: 2292506.0000\n",
      "Epoch 67/250\n",
      "32/32 [==============================] - 0s 5ms/step - loss: 2292412.5000\n",
      "Epoch 68/250\n",
      "32/32 [==============================] - 0s 5ms/step - loss: 2292319.7500\n",
      "Epoch 69/250\n",
      "32/32 [==============================] - 0s 5ms/step - loss: 2292226.2500\n",
      "Epoch 70/250\n",
      "32/32 [==============================] - 0s 5ms/step - loss: 2292133.0000\n",
      "Epoch 71/250\n",
      "32/32 [==============================] - 0s 5ms/step - loss: 2292039.7500\n",
      "Epoch 72/250\n",
      "32/32 [==============================] - 0s 5ms/step - loss: 2291946.2500\n",
      "Epoch 73/250\n",
      "32/32 [==============================] - 0s 5ms/step - loss: 2291853.7500\n",
      "Epoch 74/250\n",
      "32/32 [==============================] - 0s 5ms/step - loss: 2291760.2500\n",
      "Epoch 75/250\n",
      "32/32 [==============================] - 0s 5ms/step - loss: 2291667.0000\n",
      "Epoch 76/250\n",
      "32/32 [==============================] - 0s 5ms/step - loss: 2291574.0000\n",
      "Epoch 77/250\n",
      "32/32 [==============================] - 0s 5ms/step - loss: 2291480.7500\n",
      "Epoch 78/250\n",
      "32/32 [==============================] - 0s 5ms/step - loss: 2291387.7500\n",
      "Epoch 79/250\n",
      "32/32 [==============================] - 0s 5ms/step - loss: 2291294.2500\n",
      "Epoch 80/250\n",
      "32/32 [==============================] - 0s 5ms/step - loss: 2291201.2500\n",
      "Epoch 81/250\n",
      "32/32 [==============================] - 0s 6ms/step - loss: 2291108.0000\n",
      "Epoch 82/250\n",
      "32/32 [==============================] - 0s 6ms/step - loss: 2291015.0000\n",
      "Epoch 83/250\n",
      "32/32 [==============================] - 0s 6ms/step - loss: 2290921.7500\n",
      "Epoch 84/250\n",
      "32/32 [==============================] - 0s 5ms/step - loss: 2290828.5000\n",
      "Epoch 85/250\n",
      "32/32 [==============================] - 0s 6ms/step - loss: 2290735.2500\n",
      "Epoch 86/250\n",
      "32/32 [==============================] - 0s 5ms/step - loss: 2290642.0000\n",
      "Epoch 87/250\n",
      "32/32 [==============================] - 0s 6ms/step - loss: 2290549.0000\n",
      "Epoch 88/250\n",
      "32/32 [==============================] - 0s 5ms/step - loss: 2290456.0000\n",
      "Epoch 89/250\n",
      "32/32 [==============================] - 0s 5ms/step - loss: 2290362.0000\n",
      "Epoch 90/250\n",
      "32/32 [==============================] - 0s 6ms/step - loss: 2290269.0000\n",
      "Epoch 91/250\n",
      "32/32 [==============================] - 0s 7ms/step - loss: 2290176.2500\n",
      "Epoch 92/250\n",
      "32/32 [==============================] - 0s 3ms/step - loss: 2290083.5000\n",
      "Epoch 93/250\n",
      "32/32 [==============================] - 0s 3ms/step - loss: 2289990.0000\n",
      "Epoch 94/250\n",
      "32/32 [==============================] - 0s 3ms/step - loss: 2289897.7500\n",
      "Epoch 95/250\n",
      "32/32 [==============================] - 0s 3ms/step - loss: 2289804.2500\n",
      "Epoch 96/250\n",
      "32/32 [==============================] - 0s 3ms/step - loss: 2289710.2500\n",
      "Epoch 97/250\n",
      "32/32 [==============================] - 0s 4ms/step - loss: 2289617.7500\n",
      "Epoch 98/250\n",
      "32/32 [==============================] - 0s 8ms/step - loss: 2289524.0000\n",
      "Epoch 99/250\n",
      "32/32 [==============================] - 0s 5ms/step - loss: 2289431.5000\n",
      "Epoch 100/250\n",
      "32/32 [==============================] - 0s 5ms/step - loss: 2289338.5000\n",
      "Epoch 101/250\n",
      "32/32 [==============================] - 0s 6ms/step - loss: 2289245.2500\n",
      "Epoch 102/250\n",
      "32/32 [==============================] - 0s 6ms/step - loss: 2289152.0000\n",
      "Epoch 103/250\n",
      "32/32 [==============================] - 0s 5ms/step - loss: 2289059.2500\n",
      "Epoch 104/250\n",
      "32/32 [==============================] - 0s 5ms/step - loss: 2288966.2500\n",
      "Epoch 105/250\n",
      "32/32 [==============================] - 0s 5ms/step - loss: 2288873.0000\n",
      "Epoch 106/250\n",
      "32/32 [==============================] - 0s 5ms/step - loss: 2288779.5000\n",
      "Epoch 107/250\n",
      "32/32 [==============================] - 0s 5ms/step - loss: 2288686.7500\n",
      "Epoch 108/250\n",
      "32/32 [==============================] - 0s 5ms/step - loss: 2288593.2500\n",
      "Epoch 109/250\n",
      "32/32 [==============================] - 0s 4ms/step - loss: 2288500.5000\n",
      "Epoch 110/250\n",
      "32/32 [==============================] - 0s 4ms/step - loss: 2288407.2500\n",
      "Epoch 111/250\n",
      "32/32 [==============================] - 0s 4ms/step - loss: 2288314.2500\n",
      "Epoch 112/250\n",
      "32/32 [==============================] - 0s 4ms/step - loss: 2288221.2500\n",
      "Epoch 113/250\n",
      "32/32 [==============================] - 0s 4ms/step - loss: 2288128.0000\n",
      "Epoch 114/250\n",
      "32/32 [==============================] - 0s 3ms/step - loss: 2288034.7500\n",
      "Epoch 115/250\n",
      "32/32 [==============================] - 0s 3ms/step - loss: 2287942.0000\n",
      "Epoch 116/250\n",
      "32/32 [==============================] - 0s 3ms/step - loss: 2287848.2500\n",
      "Epoch 117/250\n",
      "32/32 [==============================] - 0s 4ms/step - loss: 2287755.5000\n",
      "Epoch 118/250\n",
      "32/32 [==============================] - 0s 4ms/step - loss: 2287662.5000\n",
      "Epoch 119/250\n",
      "32/32 [==============================] - 0s 3ms/step - loss: 2287569.2500\n",
      "Epoch 120/250\n",
      "32/32 [==============================] - 0s 4ms/step - loss: 2287476.2500\n",
      "Epoch 121/250\n",
      "32/32 [==============================] - 0s 6ms/step - loss: 2287383.0000\n",
      "Epoch 122/250\n",
      "32/32 [==============================] - 0s 5ms/step - loss: 2287290.5000\n",
      "Epoch 123/250\n",
      "32/32 [==============================] - 0s 9ms/step - loss: 2287197.0000\n",
      "Epoch 124/250\n",
      "32/32 [==============================] - 0s 3ms/step - loss: 2287103.7500\n",
      "Epoch 125/250\n",
      "32/32 [==============================] - 0s 3ms/step - loss: 2287011.0000\n",
      "Epoch 126/250\n",
      "32/32 [==============================] - 0s 4ms/step - loss: 2286917.7500\n",
      "Epoch 127/250\n",
      "32/32 [==============================] - 0s 3ms/step - loss: 2286824.2500\n",
      "Epoch 128/250\n",
      "32/32 [==============================] - 0s 3ms/step - loss: 2286731.7500\n",
      "Epoch 129/250\n",
      "32/32 [==============================] - 0s 3ms/step - loss: 2286638.7500\n",
      "Epoch 130/250\n",
      "32/32 [==============================] - 0s 4ms/step - loss: 2286545.2500\n",
      "Epoch 131/250\n",
      "32/32 [==============================] - 0s 3ms/step - loss: 2286452.5000\n",
      "Epoch 132/250\n",
      "32/32 [==============================] - 0s 3ms/step - loss: 2286359.7500\n",
      "Epoch 133/250\n",
      "32/32 [==============================] - 0s 4ms/step - loss: 2286266.0000\n",
      "Epoch 134/250\n",
      "32/32 [==============================] - 0s 4ms/step - loss: 2286173.0000\n",
      "Epoch 135/250\n",
      "32/32 [==============================] - 0s 3ms/step - loss: 2286080.2500\n",
      "Epoch 136/250\n",
      "32/32 [==============================] - 0s 3ms/step - loss: 2285987.2500\n",
      "Epoch 137/250\n",
      "32/32 [==============================] - 0s 3ms/step - loss: 2285893.7500\n",
      "Epoch 138/250\n",
      "32/32 [==============================] - 0s 3ms/step - loss: 2285801.2500\n",
      "Epoch 139/250\n",
      "32/32 [==============================] - 0s 4ms/step - loss: 2285707.7500\n",
      "Epoch 140/250\n",
      "32/32 [==============================] - 0s 3ms/step - loss: 2285615.2500\n",
      "Epoch 141/250\n",
      "32/32 [==============================] - 0s 3ms/step - loss: 2285522.0000\n",
      "Epoch 142/250\n",
      "32/32 [==============================] - 0s 3ms/step - loss: 2285428.7500\n",
      "Epoch 143/250\n",
      "32/32 [==============================] - 0s 3ms/step - loss: 2285335.7500\n",
      "Epoch 144/250\n",
      "32/32 [==============================] - 0s 3ms/step - loss: 2285242.7500\n",
      "Epoch 145/250\n",
      "32/32 [==============================] - 0s 4ms/step - loss: 2285149.2500\n",
      "Epoch 146/250\n",
      "32/32 [==============================] - 0s 4ms/step - loss: 2285056.5000\n",
      "Epoch 147/250\n",
      "32/32 [==============================] - 0s 4ms/step - loss: 2284963.5000\n",
      "Epoch 148/250\n",
      "32/32 [==============================] - 0s 4ms/step - loss: 2284870.5000\n",
      "Epoch 149/250\n",
      "32/32 [==============================] - 0s 4ms/step - loss: 2284777.5000\n",
      "Epoch 150/250\n",
      "32/32 [==============================] - 0s 4ms/step - loss: 2284684.2500\n",
      "Epoch 151/250\n",
      "32/32 [==============================] - 0s 4ms/step - loss: 2284591.5000\n",
      "Epoch 152/250\n",
      "32/32 [==============================] - 0s 4ms/step - loss: 2284498.5000\n",
      "Epoch 153/250\n",
      "32/32 [==============================] - 0s 3ms/step - loss: 2284405.5000\n",
      "Epoch 154/250\n",
      "32/32 [==============================] - 0s 3ms/step - loss: 2284312.2500\n",
      "Epoch 155/250\n",
      "32/32 [==============================] - 0s 4ms/step - loss: 2284219.2500\n",
      "Epoch 156/250\n",
      "32/32 [==============================] - 0s 3ms/step - loss: 2284126.0000\n",
      "Epoch 157/250\n",
      "32/32 [==============================] - 0s 3ms/step - loss: 2284033.5000\n",
      "Epoch 158/250\n",
      "32/32 [==============================] - 0s 6ms/step - loss: 2283940.0000\n",
      "Epoch 159/250\n",
      "32/32 [==============================] - 0s 4ms/step - loss: 2283847.2500\n",
      "Epoch 160/250\n",
      "32/32 [==============================] - 0s 4ms/step - loss: 2283754.5000\n",
      "Epoch 161/250\n",
      "32/32 [==============================] - 0s 4ms/step - loss: 2283661.5000\n",
      "Epoch 162/250\n",
      "32/32 [==============================] - 0s 4ms/step - loss: 2283568.2500\n",
      "Epoch 163/250\n",
      "32/32 [==============================] - 0s 4ms/step - loss: 2283475.5000\n",
      "Epoch 164/250\n",
      "32/32 [==============================] - 0s 3ms/step - loss: 2283382.0000\n",
      "Epoch 165/250\n",
      "32/32 [==============================] - 0s 3ms/step - loss: 2283289.2500\n",
      "Epoch 166/250\n",
      "32/32 [==============================] - 0s 3ms/step - loss: 2283196.5000\n",
      "Epoch 167/250\n",
      "32/32 [==============================] - 0s 4ms/step - loss: 2283103.5000\n",
      "Epoch 168/250\n",
      "32/32 [==============================] - 0s 4ms/step - loss: 2283010.7500\n",
      "Epoch 169/250\n",
      "32/32 [==============================] - 0s 4ms/step - loss: 2282917.2500\n",
      "Epoch 170/250\n",
      "32/32 [==============================] - 0s 4ms/step - loss: 2282824.2500\n",
      "Epoch 171/250\n",
      "32/32 [==============================] - 0s 4ms/step - loss: 2282731.5000\n",
      "Epoch 172/250\n",
      "32/32 [==============================] - 0s 3ms/step - loss: 2282638.7500\n",
      "Epoch 173/250\n",
      "32/32 [==============================] - 0s 3ms/step - loss: 2282545.5000\n",
      "Epoch 174/250\n",
      "32/32 [==============================] - 0s 4ms/step - loss: 2282452.5000\n",
      "Epoch 175/250\n",
      "32/32 [==============================] - 0s 3ms/step - loss: 2282359.5000\n",
      "Epoch 176/250\n",
      "32/32 [==============================] - 0s 3ms/step - loss: 2282266.0000\n",
      "Epoch 177/250\n",
      "32/32 [==============================] - 0s 3ms/step - loss: 2282173.2500\n",
      "Epoch 178/250\n",
      "32/32 [==============================] - 0s 3ms/step - loss: 2282080.2500\n",
      "Epoch 179/250\n",
      "32/32 [==============================] - 0s 4ms/step - loss: 2281987.2500\n",
      "Epoch 180/250\n",
      "32/32 [==============================] - 0s 4ms/step - loss: 2281894.0000\n",
      "Epoch 181/250\n",
      "32/32 [==============================] - 0s 3ms/step - loss: 2281801.2500\n",
      "Epoch 182/250\n",
      "32/32 [==============================] - 0s 4ms/step - loss: 2281708.2500\n",
      "Epoch 183/250\n",
      "32/32 [==============================] - 0s 4ms/step - loss: 2281615.2500\n",
      "Epoch 184/250\n",
      "32/32 [==============================] - 0s 4ms/step - loss: 2281523.0000\n",
      "Epoch 185/250\n",
      "32/32 [==============================] - 0s 3ms/step - loss: 2281429.7500\n",
      "Epoch 186/250\n",
      "32/32 [==============================] - 0s 4ms/step - loss: 2281336.7500\n",
      "Epoch 187/250\n",
      "32/32 [==============================] - 0s 4ms/step - loss: 2281243.2500\n",
      "Epoch 188/250\n",
      "32/32 [==============================] - 0s 4ms/step - loss: 2281150.5000\n",
      "Epoch 189/250\n",
      "32/32 [==============================] - 0s 4ms/step - loss: 2281057.7500\n",
      "Epoch 190/250\n",
      "32/32 [==============================] - 0s 4ms/step - loss: 2280964.5000\n",
      "Epoch 191/250\n",
      "32/32 [==============================] - 0s 4ms/step - loss: 2280871.5000\n",
      "Epoch 192/250\n",
      "32/32 [==============================] - 0s 4ms/step - loss: 2280779.0000\n",
      "Epoch 193/250\n",
      "32/32 [==============================] - 0s 3ms/step - loss: 2280686.5000\n",
      "Epoch 194/250\n",
      "32/32 [==============================] - 0s 3ms/step - loss: 2280593.5000\n",
      "Epoch 195/250\n",
      "32/32 [==============================] - 0s 3ms/step - loss: 2280500.5000\n",
      "Epoch 196/250\n",
      "32/32 [==============================] - 0s 4ms/step - loss: 2280407.5000\n",
      "Epoch 197/250\n",
      "32/32 [==============================] - 0s 3ms/step - loss: 2280314.2500\n",
      "Epoch 198/250\n",
      "32/32 [==============================] - 0s 3ms/step - loss: 2280221.7500\n",
      "Epoch 199/250\n",
      "32/32 [==============================] - 0s 3ms/step - loss: 2280129.0000\n",
      "Epoch 200/250\n",
      "32/32 [==============================] - 0s 3ms/step - loss: 2280036.0000\n",
      "Epoch 201/250\n",
      "32/32 [==============================] - 0s 3ms/step - loss: 2279942.7500\n",
      "Epoch 202/250\n",
      "32/32 [==============================] - 0s 3ms/step - loss: 2279850.0000\n",
      "Epoch 203/250\n",
      "32/32 [==============================] - 0s 3ms/step - loss: 2279756.5000\n",
      "Epoch 204/250\n",
      "32/32 [==============================] - 0s 4ms/step - loss: 2279664.0000\n",
      "Epoch 205/250\n",
      "32/32 [==============================] - 0s 4ms/step - loss: 2279571.0000\n",
      "Epoch 206/250\n",
      "32/32 [==============================] - 0s 3ms/step - loss: 2279478.2500\n",
      "Epoch 207/250\n",
      "32/32 [==============================] - 0s 4ms/step - loss: 2279385.5000\n",
      "Epoch 208/250\n",
      "32/32 [==============================] - 0s 5ms/step - loss: 2279292.5000\n",
      "Epoch 209/250\n",
      "32/32 [==============================] - 0s 4ms/step - loss: 2279199.5000\n",
      "Epoch 210/250\n",
      "32/32 [==============================] - 0s 4ms/step - loss: 2279106.5000\n",
      "Epoch 211/250\n",
      "32/32 [==============================] - 0s 4ms/step - loss: 2279014.0000\n",
      "Epoch 212/250\n",
      "32/32 [==============================] - 0s 4ms/step - loss: 2278920.2500\n",
      "Epoch 213/250\n",
      "32/32 [==============================] - 0s 4ms/step - loss: 2278827.0000\n",
      "Epoch 214/250\n",
      "32/32 [==============================] - 0s 4ms/step - loss: 2278735.2500\n",
      "Epoch 215/250\n",
      "32/32 [==============================] - 0s 4ms/step - loss: 2278642.0000\n",
      "Epoch 216/250\n",
      "32/32 [==============================] - 0s 5ms/step - loss: 2278549.2500\n",
      "Epoch 217/250\n",
      "32/32 [==============================] - 0s 4ms/step - loss: 2278456.2500\n",
      "Epoch 218/250\n",
      "32/32 [==============================] - 0s 3ms/step - loss: 2278363.2500\n",
      "Epoch 219/250\n",
      "32/32 [==============================] - 0s 4ms/step - loss: 2278270.2500\n",
      "Epoch 220/250\n",
      "32/32 [==============================] - 0s 5ms/step - loss: 2278178.5000\n",
      "Epoch 221/250\n",
      "32/32 [==============================] - 0s 4ms/step - loss: 2278085.0000\n",
      "Epoch 222/250\n",
      "32/32 [==============================] - 0s 4ms/step - loss: 2277992.2500\n",
      "Epoch 223/250\n",
      "32/32 [==============================] - 0s 4ms/step - loss: 2277899.5000\n",
      "Epoch 224/250\n",
      "32/32 [==============================] - 0s 4ms/step - loss: 2277806.2500\n",
      "Epoch 225/250\n",
      "32/32 [==============================] - 0s 4ms/step - loss: 2277713.0000\n",
      "Epoch 226/250\n",
      "32/32 [==============================] - 0s 3ms/step - loss: 2277620.5000\n",
      "Epoch 227/250\n",
      "32/32 [==============================] - 0s 4ms/step - loss: 2277527.2500\n",
      "Epoch 228/250\n",
      "32/32 [==============================] - 0s 4ms/step - loss: 2277435.0000\n",
      "Epoch 229/250\n",
      "32/32 [==============================] - 0s 5ms/step - loss: 2277341.5000\n",
      "Epoch 230/250\n",
      "32/32 [==============================] - 0s 5ms/step - loss: 2277248.5000\n",
      "Epoch 231/250\n",
      "32/32 [==============================] - 0s 3ms/step - loss: 2277156.0000\n",
      "Epoch 232/250\n",
      "32/32 [==============================] - 0s 4ms/step - loss: 2277063.2500\n",
      "Epoch 233/250\n",
      "32/32 [==============================] - 0s 5ms/step - loss: 2276970.5000\n",
      "Epoch 234/250\n",
      "32/32 [==============================] - 0s 4ms/step - loss: 2276877.7500\n",
      "Epoch 235/250\n",
      "32/32 [==============================] - 0s 4ms/step - loss: 2276785.0000\n",
      "Epoch 236/250\n",
      "32/32 [==============================] - 0s 6ms/step - loss: 2276692.5000\n",
      "Epoch 237/250\n",
      "32/32 [==============================] - 0s 4ms/step - loss: 2276599.2500\n",
      "Epoch 238/250\n",
      "32/32 [==============================] - 0s 2ms/step - loss: 2276506.5000\n",
      "Epoch 239/250\n",
      "32/32 [==============================] - 0s 5ms/step - loss: 2276413.7500\n",
      "Epoch 240/250\n",
      "32/32 [==============================] - 0s 4ms/step - loss: 2276321.2500\n",
      "Epoch 241/250\n",
      "32/32 [==============================] - 0s 3ms/step - loss: 2276228.2500\n",
      "Epoch 242/250\n",
      "32/32 [==============================] - 0s 3ms/step - loss: 2276135.2500\n",
      "Epoch 243/250\n",
      "32/32 [==============================] - 0s 3ms/step - loss: 2276041.7500\n",
      "Epoch 244/250\n",
      "32/32 [==============================] - 0s 3ms/step - loss: 2275949.2500\n",
      "Epoch 245/250\n",
      "32/32 [==============================] - 0s 3ms/step - loss: 2275856.5000\n",
      "Epoch 246/250\n",
      "32/32 [==============================] - 0s 3ms/step - loss: 2275764.2500\n",
      "Epoch 247/250\n",
      "32/32 [==============================] - 0s 3ms/step - loss: 2275671.2500\n",
      "Epoch 248/250\n",
      "32/32 [==============================] - 0s 3ms/step - loss: 2275578.5000\n",
      "Epoch 249/250\n",
      "32/32 [==============================] - 0s 3ms/step - loss: 2275485.0000\n",
      "Epoch 250/250\n",
      "32/32 [==============================] - 0s 5ms/step - loss: 2275392.5000\n"
     ]
    },
    {
     "data": {
      "text/plain": [
       "<keras.src.callbacks.History at 0x1a3a8826850>"
      ]
     },
     "execution_count": 72,
     "metadata": {},
     "output_type": "execute_result"
    }
   ],
   "source": [
    "model.fit(X_train,y_train,epochs=250) # verbose = 1 by default"
   ]
  },
  {
   "cell_type": "code",
   "execution_count": 73,
   "id": "21e14719-9f04-4428-acd3-8ba99ccac829",
   "metadata": {},
   "outputs": [
    {
     "data": {
      "text/plain": [
       "{'loss': [2298573.5,\n",
       "  2298474.75,\n",
       "  2298382.0,\n",
       "  2298288.25,\n",
       "  2298195.0,\n",
       "  2298101.75,\n",
       "  2298008.75,\n",
       "  2297915.25,\n",
       "  2297821.25,\n",
       "  2297728.25,\n",
       "  2297635.0,\n",
       "  2297541.75,\n",
       "  2297448.75,\n",
       "  2297355.75,\n",
       "  2297261.5,\n",
       "  2297168.5,\n",
       "  2297075.25,\n",
       "  2296982.0,\n",
       "  2296888.75,\n",
       "  2296795.75,\n",
       "  2296702.25,\n",
       "  2296608.5,\n",
       "  2296515.75,\n",
       "  2296422.25,\n",
       "  2296329.0,\n",
       "  2296235.25,\n",
       "  2296141.75,\n",
       "  2296048.75,\n",
       "  2295955.5,\n",
       "  2295862.25,\n",
       "  2295769.5,\n",
       "  2295676.5,\n",
       "  2295583.0,\n",
       "  2295489.5,\n",
       "  2295396.0,\n",
       "  2295303.0,\n",
       "  2295209.75,\n",
       "  2295116.5,\n",
       "  2295023.25,\n",
       "  2294929.25,\n",
       "  2294836.25,\n",
       "  2294743.75,\n",
       "  2294650.25,\n",
       "  2294556.5,\n",
       "  2294463.5,\n",
       "  2294370.25,\n",
       "  2294276.75,\n",
       "  2294184.25,\n",
       "  2294090.0,\n",
       "  2293997.0,\n",
       "  2293903.5,\n",
       "  2293811.0,\n",
       "  2293717.75,\n",
       "  2293624.5,\n",
       "  2293531.25,\n",
       "  2293438.0,\n",
       "  2293344.75,\n",
       "  2293251.5,\n",
       "  2293158.0,\n",
       "  2293064.5,\n",
       "  2292971.75,\n",
       "  2292878.75,\n",
       "  2292785.75,\n",
       "  2292692.5,\n",
       "  2292599.25,\n",
       "  2292506.0,\n",
       "  2292412.5,\n",
       "  2292319.75,\n",
       "  2292226.25,\n",
       "  2292133.0,\n",
       "  2292039.75,\n",
       "  2291946.25,\n",
       "  2291853.75,\n",
       "  2291760.25,\n",
       "  2291667.0,\n",
       "  2291574.0,\n",
       "  2291480.75,\n",
       "  2291387.75,\n",
       "  2291294.25,\n",
       "  2291201.25,\n",
       "  2291108.0,\n",
       "  2291015.0,\n",
       "  2290921.75,\n",
       "  2290828.5,\n",
       "  2290735.25,\n",
       "  2290642.0,\n",
       "  2290549.0,\n",
       "  2290456.0,\n",
       "  2290362.0,\n",
       "  2290269.0,\n",
       "  2290176.25,\n",
       "  2290083.5,\n",
       "  2289990.0,\n",
       "  2289897.75,\n",
       "  2289804.25,\n",
       "  2289710.25,\n",
       "  2289617.75,\n",
       "  2289524.0,\n",
       "  2289431.5,\n",
       "  2289338.5,\n",
       "  2289245.25,\n",
       "  2289152.0,\n",
       "  2289059.25,\n",
       "  2288966.25,\n",
       "  2288873.0,\n",
       "  2288779.5,\n",
       "  2288686.75,\n",
       "  2288593.25,\n",
       "  2288500.5,\n",
       "  2288407.25,\n",
       "  2288314.25,\n",
       "  2288221.25,\n",
       "  2288128.0,\n",
       "  2288034.75,\n",
       "  2287942.0,\n",
       "  2287848.25,\n",
       "  2287755.5,\n",
       "  2287662.5,\n",
       "  2287569.25,\n",
       "  2287476.25,\n",
       "  2287383.0,\n",
       "  2287290.5,\n",
       "  2287197.0,\n",
       "  2287103.75,\n",
       "  2287011.0,\n",
       "  2286917.75,\n",
       "  2286824.25,\n",
       "  2286731.75,\n",
       "  2286638.75,\n",
       "  2286545.25,\n",
       "  2286452.5,\n",
       "  2286359.75,\n",
       "  2286266.0,\n",
       "  2286173.0,\n",
       "  2286080.25,\n",
       "  2285987.25,\n",
       "  2285893.75,\n",
       "  2285801.25,\n",
       "  2285707.75,\n",
       "  2285615.25,\n",
       "  2285522.0,\n",
       "  2285428.75,\n",
       "  2285335.75,\n",
       "  2285242.75,\n",
       "  2285149.25,\n",
       "  2285056.5,\n",
       "  2284963.5,\n",
       "  2284870.5,\n",
       "  2284777.5,\n",
       "  2284684.25,\n",
       "  2284591.5,\n",
       "  2284498.5,\n",
       "  2284405.5,\n",
       "  2284312.25,\n",
       "  2284219.25,\n",
       "  2284126.0,\n",
       "  2284033.5,\n",
       "  2283940.0,\n",
       "  2283847.25,\n",
       "  2283754.5,\n",
       "  2283661.5,\n",
       "  2283568.25,\n",
       "  2283475.5,\n",
       "  2283382.0,\n",
       "  2283289.25,\n",
       "  2283196.5,\n",
       "  2283103.5,\n",
       "  2283010.75,\n",
       "  2282917.25,\n",
       "  2282824.25,\n",
       "  2282731.5,\n",
       "  2282638.75,\n",
       "  2282545.5,\n",
       "  2282452.5,\n",
       "  2282359.5,\n",
       "  2282266.0,\n",
       "  2282173.25,\n",
       "  2282080.25,\n",
       "  2281987.25,\n",
       "  2281894.0,\n",
       "  2281801.25,\n",
       "  2281708.25,\n",
       "  2281615.25,\n",
       "  2281523.0,\n",
       "  2281429.75,\n",
       "  2281336.75,\n",
       "  2281243.25,\n",
       "  2281150.5,\n",
       "  2281057.75,\n",
       "  2280964.5,\n",
       "  2280871.5,\n",
       "  2280779.0,\n",
       "  2280686.5,\n",
       "  2280593.5,\n",
       "  2280500.5,\n",
       "  2280407.5,\n",
       "  2280314.25,\n",
       "  2280221.75,\n",
       "  2280129.0,\n",
       "  2280036.0,\n",
       "  2279942.75,\n",
       "  2279850.0,\n",
       "  2279756.5,\n",
       "  2279664.0,\n",
       "  2279571.0,\n",
       "  2279478.25,\n",
       "  2279385.5,\n",
       "  2279292.5,\n",
       "  2279199.5,\n",
       "  2279106.5,\n",
       "  2279014.0,\n",
       "  2278920.25,\n",
       "  2278827.0,\n",
       "  2278735.25,\n",
       "  2278642.0,\n",
       "  2278549.25,\n",
       "  2278456.25,\n",
       "  2278363.25,\n",
       "  2278270.25,\n",
       "  2278178.5,\n",
       "  2278085.0,\n",
       "  2277992.25,\n",
       "  2277899.5,\n",
       "  2277806.25,\n",
       "  2277713.0,\n",
       "  2277620.5,\n",
       "  2277527.25,\n",
       "  2277435.0,\n",
       "  2277341.5,\n",
       "  2277248.5,\n",
       "  2277156.0,\n",
       "  2277063.25,\n",
       "  2276970.5,\n",
       "  2276877.75,\n",
       "  2276785.0,\n",
       "  2276692.5,\n",
       "  2276599.25,\n",
       "  2276506.5,\n",
       "  2276413.75,\n",
       "  2276321.25,\n",
       "  2276228.25,\n",
       "  2276135.25,\n",
       "  2276041.75,\n",
       "  2275949.25,\n",
       "  2275856.5,\n",
       "  2275764.25,\n",
       "  2275671.25,\n",
       "  2275578.5,\n",
       "  2275485.0,\n",
       "  2275392.5]}"
      ]
     },
     "execution_count": 73,
     "metadata": {},
     "output_type": "execute_result"
    }
   ],
   "source": [
    "model.history.history"
   ]
  },
  {
   "cell_type": "code",
   "execution_count": 74,
   "id": "96bba205-d31a-40dd-b0b0-94cb7fcfdfcc",
   "metadata": {},
   "outputs": [
    {
     "data": {
      "text/html": [
       "<div>\n",
       "<style scoped>\n",
       "    .dataframe tbody tr th:only-of-type {\n",
       "        vertical-align: middle;\n",
       "    }\n",
       "\n",
       "    .dataframe tbody tr th {\n",
       "        vertical-align: top;\n",
       "    }\n",
       "\n",
       "    .dataframe thead th {\n",
       "        text-align: right;\n",
       "    }\n",
       "</style>\n",
       "<table border=\"1\" class=\"dataframe\">\n",
       "  <thead>\n",
       "    <tr style=\"text-align: right;\">\n",
       "      <th></th>\n",
       "      <th>loss</th>\n",
       "    </tr>\n",
       "  </thead>\n",
       "  <tbody>\n",
       "    <tr>\n",
       "      <th>0</th>\n",
       "      <td>2298573.50</td>\n",
       "    </tr>\n",
       "    <tr>\n",
       "      <th>1</th>\n",
       "      <td>2298474.75</td>\n",
       "    </tr>\n",
       "    <tr>\n",
       "      <th>2</th>\n",
       "      <td>2298382.00</td>\n",
       "    </tr>\n",
       "    <tr>\n",
       "      <th>3</th>\n",
       "      <td>2298288.25</td>\n",
       "    </tr>\n",
       "    <tr>\n",
       "      <th>4</th>\n",
       "      <td>2298195.00</td>\n",
       "    </tr>\n",
       "    <tr>\n",
       "      <th>...</th>\n",
       "      <td>...</td>\n",
       "    </tr>\n",
       "    <tr>\n",
       "      <th>245</th>\n",
       "      <td>2275764.25</td>\n",
       "    </tr>\n",
       "    <tr>\n",
       "      <th>246</th>\n",
       "      <td>2275671.25</td>\n",
       "    </tr>\n",
       "    <tr>\n",
       "      <th>247</th>\n",
       "      <td>2275578.50</td>\n",
       "    </tr>\n",
       "    <tr>\n",
       "      <th>248</th>\n",
       "      <td>2275485.00</td>\n",
       "    </tr>\n",
       "    <tr>\n",
       "      <th>249</th>\n",
       "      <td>2275392.50</td>\n",
       "    </tr>\n",
       "  </tbody>\n",
       "</table>\n",
       "<p>250 rows × 1 columns</p>\n",
       "</div>"
      ],
      "text/plain": [
       "           loss\n",
       "0    2298573.50\n",
       "1    2298474.75\n",
       "2    2298382.00\n",
       "3    2298288.25\n",
       "4    2298195.00\n",
       "..          ...\n",
       "245  2275764.25\n",
       "246  2275671.25\n",
       "247  2275578.50\n",
       "248  2275485.00\n",
       "249  2275392.50\n",
       "\n",
       "[250 rows x 1 columns]"
      ]
     },
     "execution_count": 74,
     "metadata": {},
     "output_type": "execute_result"
    }
   ],
   "source": [
    "pd.DataFrame(model.history.history)"
   ]
  },
  {
   "cell_type": "code",
   "execution_count": 75,
   "id": "4c6ca658-eafc-472b-adf5-bd96fb2acee2",
   "metadata": {},
   "outputs": [],
   "source": [
    "loss = model.history.history['loss']"
   ]
  },
  {
   "cell_type": "code",
   "execution_count": 76,
   "id": "d868b847-15c1-476d-b6b1-8e1e450538a0",
   "metadata": {},
   "outputs": [
    {
     "data": {
      "text/plain": [
       "list"
      ]
     },
     "execution_count": 76,
     "metadata": {},
     "output_type": "execute_result"
    }
   ],
   "source": [
    "type(loss)"
   ]
  },
  {
   "cell_type": "code",
   "execution_count": 77,
   "id": "79c5e21b-e767-4c8c-8b0e-5f7dde14658e",
   "metadata": {},
   "outputs": [
    {
     "name": "stdout",
     "output_type": "stream",
     "text": [
      "<class 'pandas.core.frame.DataFrame'>\n"
     ]
    },
    {
     "data": {
      "text/plain": [
       "<Axes: >"
      ]
     },
     "execution_count": 77,
     "metadata": {},
     "output_type": "execute_result"
    },
    {
     "data": {
      "image/png": "[encoded data removed]",
      "text/plain": [
       "<Figure size 640x480 with 1 Axes>"
      ]
     },
     "metadata": {},
     "output_type": "display_data"
    }
   ],
   "source": [
    "loss_df = pd.DataFrame(model.history.history)\n",
    "print(type(loss_df))\n",
    "loss_df.plot()"
   ]
  },
  {
   "cell_type": "code",
   "execution_count": 78,
   "id": "9cd9d23a-79df-48e3-87b8-74c960c655d5",
   "metadata": {},
   "outputs": [
    {
     "data": {
      "image/png": "[encoded data removed]",
      "text/plain": [
       "<Figure size 640x480 with 1 Axes>"
      ]
     },
     "metadata": {},
     "output_type": "display_data"
    }
   ],
   "source": [
    "sns.lineplot(x=range(len(loss)),y=loss)\n",
    "plt.title(\"Training Loss per Epoch\");"
   ]
  },
  {
   "cell_type": "code",
   "execution_count": 79,
   "id": "418302a1-b255-4536-a58c-55a59e0ae564",
   "metadata": {},
   "outputs": [
    {
     "data": {
      "text/plain": [
       "['loss']"
      ]
     },
     "execution_count": 79,
     "metadata": {},
     "output_type": "execute_result"
    }
   ],
   "source": [
    "model.metrics_names"
   ]
  },
  {
   "cell_type": "code",
   "execution_count": 80,
   "id": "6e85c491-4c33-4f90-963f-dd55faee3922",
   "metadata": {},
   "outputs": [],
   "source": [
    "training_score = model.evaluate(X_train,y_train,verbose=0)\n",
    "test_score = model.evaluate(X_test,y_test,verbose=0)"
   ]
  },
  {
   "cell_type": "code",
   "execution_count": 81,
   "id": "719eb1d3-0979-4096-bf01-db91256e331a",
   "metadata": {},
   "outputs": [
    {
     "data": {
      "text/plain": [
       "2275343.75"
      ]
     },
     "execution_count": 81,
     "metadata": {},
     "output_type": "execute_result"
    }
   ],
   "source": [
    "training_score"
   ]
  },
  {
   "cell_type": "code",
   "execution_count": 82,
   "id": "eb7ab6cb-2189-4077-8dac-fba6d9150530",
   "metadata": {},
   "outputs": [
    {
     "data": {
      "text/plain": [
       "2260032.25"
      ]
     },
     "execution_count": 82,
     "metadata": {},
     "output_type": "execute_result"
    }
   ],
   "source": [
    "test_score"
   ]
  },
  {
   "cell_type": "code",
   "execution_count": 83,
   "id": "4ad6c216-7d15-4154-bc0b-9c3111ee26bc",
   "metadata": {},
   "outputs": [
    {
     "name": "stdout",
     "output_type": "stream",
     "text": [
      "14/14 [==============================] - 0s 2ms/step\n"
     ]
    }
   ],
   "source": [
    "test_predictions = model.predict(X_test)"
   ]
  },
  {
   "cell_type": "code",
   "execution_count": 84,
   "id": "1a034802-9b8c-47fc-9cee-d5bb6bd0677e",
   "metadata": {},
   "outputs": [
    {
     "data": {
      "text/plain": [
       "array([[7.9988894],\n",
       "       [7.9988894],\n",
       "       [7.9988894],\n",
       "       [7.9988894],\n",
       "       [7.9988894],\n",
       "       [7.9988894],\n",
       "       [7.9988894],\n",
       "       [7.9988894],\n",
       "       [7.9988894],\n",
       "       [7.9988894],\n",
       "       [7.9988894],\n",
       "       [7.9988894],\n",
       "       [7.9988894],\n",
       "       [7.9988894],\n",
       "       [7.9988894],\n",
       "       [7.9988894],\n",
       "       [7.9988894],\n",
       "       [7.9988894],\n",
       "       [7.9988894],\n",
       "       [7.9988894],\n",
       "       [7.9988894],\n",
       "       [7.9988894],\n",
       "       [7.9988894],\n",
       "       [7.9988894],\n",
       "       [7.9988894],\n",
       "       [7.9988894],\n",
       "       [7.9988894],\n",
       "       [7.9988894],\n",
       "       [7.9988894],\n",
       "       [7.9988894],\n",
       "       [7.9988894],\n",
       "       [7.9988894],\n",
       "       [7.9988894],\n",
       "       [7.9988894],\n",
       "       [7.9988894],\n",
       "       [7.9988894],\n",
       "       [7.9988894],\n",
       "       [7.9988894],\n",
       "       [7.9988894],\n",
       "       [7.9988894],\n",
       "       [7.9988894],\n",
       "       [7.9988894],\n",
       "       [7.9988894],\n",
       "       [7.9988894],\n",
       "       [7.9988894],\n",
       "       [7.9988894],\n",
       "       [7.9988894],\n",
       "       [7.9988894],\n",
       "       [7.9988894],\n",
       "       [7.9988894],\n",
       "       [7.9988894],\n",
       "       [7.9988894],\n",
       "       [7.9988894],\n",
       "       [7.9988894],\n",
       "       [7.9988894],\n",
       "       [7.9988894],\n",
       "       [7.9988894],\n",
       "       [7.9988894],\n",
       "       [7.9988894],\n",
       "       [7.9988894],\n",
       "       [7.9988894],\n",
       "       [7.9988894],\n",
       "       [7.9988894],\n",
       "       [7.9988894],\n",
       "       [7.9988894],\n",
       "       [7.9988894],\n",
       "       [7.9988894],\n",
       "       [7.9988894],\n",
       "       [7.9988894],\n",
       "       [7.9988894],\n",
       "       [7.9988894],\n",
       "       [7.9988894],\n",
       "       [7.9988894],\n",
       "       [7.9988894],\n",
       "       [7.9988894],\n",
       "       [7.9988894],\n",
       "       [7.9988894],\n",
       "       [7.9988894],\n",
       "       [7.9988894],\n",
       "       [7.9988894],\n",
       "       [7.9988894],\n",
       "       [7.9988894],\n",
       "       [7.9988894],\n",
       "       [7.9988894],\n",
       "       [7.9988894],\n",
       "       [7.9988894],\n",
       "       [7.9988894],\n",
       "       [7.9988894],\n",
       "       [7.9988894],\n",
       "       [7.9988894],\n",
       "       [7.9988894],\n",
       "       [7.9988894],\n",
       "       [7.9988894],\n",
       "       [7.9988894],\n",
       "       [7.9988894],\n",
       "       [7.9988894],\n",
       "       [7.9988894],\n",
       "       [7.9988894],\n",
       "       [7.9988894],\n",
       "       [7.9988894],\n",
       "       [7.9988894],\n",
       "       [7.9988894],\n",
       "       [7.9988894],\n",
       "       [7.9988894],\n",
       "       [7.9988894],\n",
       "       [7.9988894],\n",
       "       [7.9988894],\n",
       "       [7.9988894],\n",
       "       [7.9988894],\n",
       "       [7.9988894],\n",
       "       [7.9988894],\n",
       "       [7.9988894],\n",
       "       [7.9988894],\n",
       "       [7.9988894],\n",
       "       [7.9988894],\n",
       "       [7.9988894],\n",
       "       [7.9988894],\n",
       "       [7.9988894],\n",
       "       [7.9988894],\n",
       "       [7.9988894],\n",
       "       [7.9988894],\n",
       "       [7.9988894],\n",
       "       [7.9988894],\n",
       "       [7.9988894],\n",
       "       [7.9988894],\n",
       "       [7.9988894],\n",
       "       [7.9988894],\n",
       "       [7.9988894],\n",
       "       [7.9988894],\n",
       "       [7.9988894],\n",
       "       [7.9988894],\n",
       "       [7.9988894],\n",
       "       [7.9988894],\n",
       "       [7.9988894],\n",
       "       [7.9988894],\n",
       "       [7.9988894],\n",
       "       [7.9988894],\n",
       "       [7.9988894],\n",
       "       [7.9988894],\n",
       "       [7.9988894],\n",
       "       [7.9988894],\n",
       "       [7.9988894],\n",
       "       [7.9988894],\n",
       "       [7.9988894],\n",
       "       [7.9988894],\n",
       "       [7.9988894],\n",
       "       [7.9988894],\n",
       "       [7.9988894],\n",
       "       [7.9988894],\n",
       "       [7.9988894],\n",
       "       [7.9988894],\n",
       "       [7.9988894],\n",
       "       [7.9988894],\n",
       "       [7.9988894],\n",
       "       [7.9988894],\n",
       "       [7.9988894],\n",
       "       [7.9988894],\n",
       "       [7.9988894],\n",
       "       [7.9988894],\n",
       "       [7.9988894],\n",
       "       [7.9988894],\n",
       "       [7.9988894],\n",
       "       [7.9988894],\n",
       "       [7.9988894],\n",
       "       [7.9988894],\n",
       "       [7.9988894],\n",
       "       [7.9988894],\n",
       "       [7.9988894],\n",
       "       [7.9988894],\n",
       "       [7.9988894],\n",
       "       [7.9988894],\n",
       "       [7.9988894],\n",
       "       [7.9988894],\n",
       "       [7.9988894],\n",
       "       [7.9988894],\n",
       "       [7.9988894],\n",
       "       [7.9988894],\n",
       "       [7.9988894],\n",
       "       [7.9988894],\n",
       "       [7.9988894],\n",
       "       [7.9988894],\n",
       "       [7.9988894],\n",
       "       [7.9988894],\n",
       "       [7.9988894],\n",
       "       [7.9988894],\n",
       "       [7.9988894],\n",
       "       [7.9988894],\n",
       "       [7.9988894],\n",
       "       [7.9988894],\n",
       "       [7.9988894],\n",
       "       [7.9988894],\n",
       "       [7.9988894],\n",
       "       [7.9988894],\n",
       "       [7.9988894],\n",
       "       [7.9988894],\n",
       "       [7.9988894],\n",
       "       [7.9988894],\n",
       "       [7.9988894],\n",
       "       [7.9988894],\n",
       "       [7.9988894],\n",
       "       [7.9988894],\n",
       "       [7.9988894],\n",
       "       [7.9988894],\n",
       "       [7.9988894],\n",
       "       [7.9988894],\n",
       "       [7.9988894],\n",
       "       [7.9988894],\n",
       "       [7.9988894],\n",
       "       [7.9988894],\n",
       "       [7.9988894],\n",
       "       [7.9988894],\n",
       "       [7.9988894],\n",
       "       [7.9988894],\n",
       "       [7.9988894],\n",
       "       [7.9988894],\n",
       "       [7.9988894],\n",
       "       [7.9988894],\n",
       "       [7.9988894],\n",
       "       [7.9988894],\n",
       "       [7.9988894],\n",
       "       [7.9988894],\n",
       "       [7.9988894],\n",
       "       [7.9988894],\n",
       "       [7.9988894],\n",
       "       [7.9988894],\n",
       "       [7.9988894],\n",
       "       [7.9988894],\n",
       "       [7.9988894],\n",
       "       [7.9988894],\n",
       "       [7.9988894],\n",
       "       [7.9988894],\n",
       "       [7.9988894],\n",
       "       [7.9988894],\n",
       "       [7.9988894],\n",
       "       [7.9988894],\n",
       "       [7.9988894],\n",
       "       [7.9988894],\n",
       "       [7.9988894],\n",
       "       [7.9988894],\n",
       "       [7.9988894],\n",
       "       [7.9988894],\n",
       "       [7.9988894],\n",
       "       [7.9988894],\n",
       "       [7.9988894],\n",
       "       [7.9988894],\n",
       "       [7.9988894],\n",
       "       [7.9988894],\n",
       "       [7.9988894],\n",
       "       [7.9988894],\n",
       "       [7.9988894],\n",
       "       [7.9988894],\n",
       "       [7.9988894],\n",
       "       [7.9988894],\n",
       "       [7.9988894],\n",
       "       [7.9988894],\n",
       "       [7.9988894],\n",
       "       [7.9988894],\n",
       "       [7.9988894],\n",
       "       [7.9988894],\n",
       "       [7.9988894],\n",
       "       [7.9988894],\n",
       "       [7.9988894],\n",
       "       [7.9988894],\n",
       "       [7.9988894],\n",
       "       [7.9988894],\n",
       "       [7.9988894],\n",
       "       [7.9988894],\n",
       "       [7.9988894],\n",
       "       [7.9988894],\n",
       "       [7.9988894],\n",
       "       [7.9988894],\n",
       "       [7.9988894],\n",
       "       [7.9988894],\n",
       "       [7.9988894],\n",
       "       [7.9988894],\n",
       "       [7.9988894],\n",
       "       [7.9988894],\n",
       "       [7.9988894],\n",
       "       [7.9988894],\n",
       "       [7.9988894],\n",
       "       [7.9988894],\n",
       "       [7.9988894],\n",
       "       [7.9988894],\n",
       "       [7.9988894],\n",
       "       [7.9988894],\n",
       "       [7.9988894],\n",
       "       [7.9988894],\n",
       "       [7.9988894],\n",
       "       [7.9988894],\n",
       "       [7.9988894],\n",
       "       [7.9988894],\n",
       "       [7.9988894],\n",
       "       [7.9988894],\n",
       "       [7.9988894],\n",
       "       [7.9988894],\n",
       "       [7.9988894],\n",
       "       [7.9988894],\n",
       "       [7.9988894],\n",
       "       [7.9988894],\n",
       "       [7.9988894],\n",
       "       [7.9988894],\n",
       "       [7.9988894],\n",
       "       [7.9988894],\n",
       "       [7.9988894],\n",
       "       [7.9988894],\n",
       "       [7.9988894],\n",
       "       [7.9988894],\n",
       "       [7.9988894],\n",
       "       [7.9988894],\n",
       "       [7.9988894],\n",
       "       [7.9988894],\n",
       "       [7.9988894],\n",
       "       [7.9988894],\n",
       "       [7.9988894],\n",
       "       [7.9988894],\n",
       "       [7.9988894],\n",
       "       [7.9988894],\n",
       "       [7.9988894],\n",
       "       [7.9988894],\n",
       "       [7.9988894],\n",
       "       [7.9988894],\n",
       "       [7.9988894],\n",
       "       [7.9988894],\n",
       "       [7.9988894],\n",
       "       [7.9988894],\n",
       "       [7.9988894],\n",
       "       [7.9988894],\n",
       "       [7.9988894],\n",
       "       [7.9988894],\n",
       "       [7.9988894],\n",
       "       [7.9988894],\n",
       "       [7.9988894],\n",
       "       [7.9988894],\n",
       "       [7.9988894],\n",
       "       [7.9988894],\n",
       "       [7.9988894],\n",
       "       [7.9988894],\n",
       "       [7.9988894],\n",
       "       [7.9988894],\n",
       "       [7.9988894],\n",
       "       [7.9988894],\n",
       "       [7.9988894],\n",
       "       [7.9988894],\n",
       "       [7.9988894],\n",
       "       [7.9988894],\n",
       "       [7.9988894],\n",
       "       [7.9988894],\n",
       "       [7.9988894],\n",
       "       [7.9988894],\n",
       "       [7.9988894],\n",
       "       [7.9988894],\n",
       "       [7.9988894],\n",
       "       [7.9988894],\n",
       "       [7.9988894],\n",
       "       [7.9988894],\n",
       "       [7.9988894],\n",
       "       [7.9988894],\n",
       "       [7.9988894],\n",
       "       [7.9988894],\n",
       "       [7.9988894],\n",
       "       [7.9988894],\n",
       "       [7.9988894],\n",
       "       [7.9988894],\n",
       "       [7.9988894],\n",
       "       [7.9988894],\n",
       "       [7.9988894],\n",
       "       [7.9988894],\n",
       "       [7.9988894],\n",
       "       [7.9988894],\n",
       "       [7.9988894],\n",
       "       [7.9988894],\n",
       "       [7.9988894],\n",
       "       [7.9988894],\n",
       "       [7.9988894],\n",
       "       [7.9988894],\n",
       "       [7.9988894],\n",
       "       [7.9988894],\n",
       "       [7.9988894],\n",
       "       [7.9988894],\n",
       "       [7.9988894],\n",
       "       [7.9988894],\n",
       "       [7.9988894],\n",
       "       [7.9988894],\n",
       "       [7.9988894],\n",
       "       [7.9988894],\n",
       "       [7.9988894],\n",
       "       [7.9988894],\n",
       "       [7.9988894],\n",
       "       [7.9988894],\n",
       "       [7.9988894],\n",
       "       [7.9988894],\n",
       "       [7.9988894],\n",
       "       [7.9988894],\n",
       "       [7.9988894],\n",
       "       [7.9988894],\n",
       "       [7.9988894],\n",
       "       [7.9988894],\n",
       "       [7.9988894],\n",
       "       [7.9988894],\n",
       "       [7.9988894],\n",
       "       [7.9988894],\n",
       "       [7.9988894],\n",
       "       [7.9988894],\n",
       "       [7.9988894],\n",
       "       [7.9988894],\n",
       "       [7.9988894],\n",
       "       [7.9988894],\n",
       "       [7.9988894],\n",
       "       [7.9988894],\n",
       "       [7.9988894],\n",
       "       [7.9988894],\n",
       "       [7.9988894],\n",
       "       [7.9988894],\n",
       "       [7.9988894],\n",
       "       [7.9988894],\n",
       "       [7.9988894],\n",
       "       [7.9988894],\n",
       "       [7.9988894],\n",
       "       [7.9988894],\n",
       "       [7.9988894],\n",
       "       [7.9988894],\n",
       "       [7.9988894],\n",
       "       [7.9988894],\n",
       "       [7.9988894],\n",
       "       [7.9988894],\n",
       "       [7.9988894],\n",
       "       [7.9988894],\n",
       "       [7.9988894],\n",
       "       [7.9988894],\n",
       "       [7.9988894],\n",
       "       [7.9988894],\n",
       "       [7.9988894],\n",
       "       [7.9988894],\n",
       "       [7.9988894]], dtype=float32)"
      ]
     },
     "execution_count": 84,
     "metadata": {},
     "output_type": "execute_result"
    }
   ],
   "source": [
    "test_predictions"
   ]
  },
  {
   "cell_type": "code",
   "execution_count": 85,
   "id": "672021bd-b942-42fb-92b8-25854ce2b2a1",
   "metadata": {},
   "outputs": [],
   "source": [
    "pred_df = pd.DataFrame(y_test,columns=['Test Y'])"
   ]
  },
  {
   "cell_type": "code",
   "execution_count": 86,
   "id": "32a53b16-8a72-448a-86cc-de3b7459e6e2",
   "metadata": {},
   "outputs": [
    {
     "data": {
      "text/html": [
       "<div>\n",
       "<style scoped>\n",
       "    .dataframe tbody tr th:only-of-type {\n",
       "        vertical-align: middle;\n",
       "    }\n",
       "\n",
       "    .dataframe tbody tr th {\n",
       "        vertical-align: top;\n",
       "    }\n",
       "\n",
       "    .dataframe thead th {\n",
       "        text-align: right;\n",
       "    }\n",
       "</style>\n",
       "<table border=\"1\" class=\"dataframe\">\n",
       "  <thead>\n",
       "    <tr style=\"text-align: right;\">\n",
       "      <th></th>\n",
       "      <th>Test Y</th>\n",
       "    </tr>\n",
       "  </thead>\n",
       "  <tbody>\n",
       "    <tr>\n",
       "      <th>0</th>\n",
       "      <td>1900</td>\n",
       "    </tr>\n",
       "    <tr>\n",
       "      <th>1</th>\n",
       "      <td>1825</td>\n",
       "    </tr>\n",
       "    <tr>\n",
       "      <th>2</th>\n",
       "      <td>1725</td>\n",
       "    </tr>\n",
       "    <tr>\n",
       "      <th>3</th>\n",
       "      <td>1800</td>\n",
       "    </tr>\n",
       "    <tr>\n",
       "      <th>4</th>\n",
       "      <td>1630</td>\n",
       "    </tr>\n",
       "    <tr>\n",
       "      <th>...</th>\n",
       "      <td>...</td>\n",
       "    </tr>\n",
       "    <tr>\n",
       "      <th>429</th>\n",
       "      <td>1031</td>\n",
       "    </tr>\n",
       "    <tr>\n",
       "      <th>430</th>\n",
       "      <td>1300</td>\n",
       "    </tr>\n",
       "    <tr>\n",
       "      <th>431</th>\n",
       "      <td>1490</td>\n",
       "    </tr>\n",
       "    <tr>\n",
       "      <th>432</th>\n",
       "      <td>1550</td>\n",
       "    </tr>\n",
       "    <tr>\n",
       "      <th>433</th>\n",
       "      <td>1450</td>\n",
       "    </tr>\n",
       "  </tbody>\n",
       "</table>\n",
       "<p>434 rows × 1 columns</p>\n",
       "</div>"
      ],
      "text/plain": [
       "     Test Y\n",
       "0      1900\n",
       "1      1825\n",
       "2      1725\n",
       "3      1800\n",
       "4      1630\n",
       "..      ...\n",
       "429    1031\n",
       "430    1300\n",
       "431    1490\n",
       "432    1550\n",
       "433    1450\n",
       "\n",
       "[434 rows x 1 columns]"
      ]
     },
     "execution_count": 86,
     "metadata": {},
     "output_type": "execute_result"
    }
   ],
   "source": [
    "pred_df"
   ]
  },
  {
   "cell_type": "code",
   "execution_count": 88,
   "id": "d279d630-d429-49c1-a6ea-f9bd297488a6",
   "metadata": {},
   "outputs": [],
   "source": [
    "test_predictions = pd.Series(test_predictions.reshape(434,))"
   ]
  },
  {
   "cell_type": "code",
   "execution_count": 89,
   "id": "ed5ab0e1-a5f5-48fb-9d4d-69aed7cbb5f6",
   "metadata": {},
   "outputs": [
    {
     "data": {
      "text/plain": [
       "0      7.998889\n",
       "1      7.998889\n",
       "2      7.998889\n",
       "3      7.998889\n",
       "4      7.998889\n",
       "         ...   \n",
       "429    7.998889\n",
       "430    7.998889\n",
       "431    7.998889\n",
       "432    7.998889\n",
       "433    7.998889\n",
       "Length: 434, dtype: float32"
      ]
     },
     "execution_count": 89,
     "metadata": {},
     "output_type": "execute_result"
    }
   ],
   "source": [
    "test_predictions"
   ]
  },
  {
   "cell_type": "code",
   "execution_count": 90,
   "id": "e3c39646-dec1-47e6-bc02-7771b07ca718",
   "metadata": {},
   "outputs": [],
   "source": [
    "pred_df = pd.concat([pred_df,test_predictions],axis=1)"
   ]
  },
  {
   "cell_type": "code",
   "execution_count": 91,
   "id": "26419076-50b0-4eaa-9968-ba8f0ee3fc8a",
   "metadata": {},
   "outputs": [],
   "source": [
    "pred_df.columns = ['Test Y','Model Predictions']"
   ]
  },
  {
   "cell_type": "code",
   "execution_count": 92,
   "id": "ea3c0f83-0eb6-488c-b11e-45cc355d29e1",
   "metadata": {},
   "outputs": [
    {
     "data": {
      "text/html": [
       "<div>\n",
       "<style scoped>\n",
       "    .dataframe tbody tr th:only-of-type {\n",
       "        vertical-align: middle;\n",
       "    }\n",
       "\n",
       "    .dataframe tbody tr th {\n",
       "        vertical-align: top;\n",
       "    }\n",
       "\n",
       "    .dataframe thead th {\n",
       "        text-align: right;\n",
       "    }\n",
       "</style>\n",
       "<table border=\"1\" class=\"dataframe\">\n",
       "  <thead>\n",
       "    <tr style=\"text-align: right;\">\n",
       "      <th></th>\n",
       "      <th>Test Y</th>\n",
       "      <th>Model Predictions</th>\n",
       "    </tr>\n",
       "  </thead>\n",
       "  <tbody>\n",
       "    <tr>\n",
       "      <th>0</th>\n",
       "      <td>1900</td>\n",
       "      <td>7.998889</td>\n",
       "    </tr>\n",
       "    <tr>\n",
       "      <th>1</th>\n",
       "      <td>1825</td>\n",
       "      <td>7.998889</td>\n",
       "    </tr>\n",
       "    <tr>\n",
       "      <th>2</th>\n",
       "      <td>1725</td>\n",
       "      <td>7.998889</td>\n",
       "    </tr>\n",
       "    <tr>\n",
       "      <th>3</th>\n",
       "      <td>1800</td>\n",
       "      <td>7.998889</td>\n",
       "    </tr>\n",
       "    <tr>\n",
       "      <th>4</th>\n",
       "      <td>1630</td>\n",
       "      <td>7.998889</td>\n",
       "    </tr>\n",
       "    <tr>\n",
       "      <th>...</th>\n",
       "      <td>...</td>\n",
       "      <td>...</td>\n",
       "    </tr>\n",
       "    <tr>\n",
       "      <th>429</th>\n",
       "      <td>1031</td>\n",
       "      <td>7.998889</td>\n",
       "    </tr>\n",
       "    <tr>\n",
       "      <th>430</th>\n",
       "      <td>1300</td>\n",
       "      <td>7.998889</td>\n",
       "    </tr>\n",
       "    <tr>\n",
       "      <th>431</th>\n",
       "      <td>1490</td>\n",
       "      <td>7.998889</td>\n",
       "    </tr>\n",
       "    <tr>\n",
       "      <th>432</th>\n",
       "      <td>1550</td>\n",
       "      <td>7.998889</td>\n",
       "    </tr>\n",
       "    <tr>\n",
       "      <th>433</th>\n",
       "      <td>1450</td>\n",
       "      <td>7.998889</td>\n",
       "    </tr>\n",
       "  </tbody>\n",
       "</table>\n",
       "<p>434 rows × 2 columns</p>\n",
       "</div>"
      ],
      "text/plain": [
       "     Test Y  Model Predictions\n",
       "0      1900           7.998889\n",
       "1      1825           7.998889\n",
       "2      1725           7.998889\n",
       "3      1800           7.998889\n",
       "4      1630           7.998889\n",
       "..      ...                ...\n",
       "429    1031           7.998889\n",
       "430    1300           7.998889\n",
       "431    1490           7.998889\n",
       "432    1550           7.998889\n",
       "433    1450           7.998889\n",
       "\n",
       "[434 rows x 2 columns]"
      ]
     },
     "execution_count": 92,
     "metadata": {},
     "output_type": "execute_result"
    }
   ],
   "source": [
    "pred_df"
   ]
  },
  {
   "cell_type": "code",
   "execution_count": 93,
   "id": "7c743c8d-cd49-42e6-be93-1093a9bb6025",
   "metadata": {},
   "outputs": [
    {
     "data": {
      "text/plain": [
       "<Axes: xlabel='Test Y', ylabel='Model Predictions'>"
      ]
     },
     "execution_count": 93,
     "metadata": {},
     "output_type": "execute_result"
    },
    {
     "data": {
      "image/png": "[encoded data removed]",
      "text/plain": [
       "<Figure size 640x480 with 1 Axes>"
      ]
     },
     "metadata": {},
     "output_type": "display_data"
    }
   ],
   "source": [
    "sns.scatterplot(x='Test Y',y='Model Predictions',data=pred_df)\n",
    "# Here, it give an almost perfect straight line."
   ]
  },
  {
   "cell_type": "code",
   "execution_count": 94,
   "id": "416f3405-a618-47ea-babe-474d210329b5",
   "metadata": {},
   "outputs": [],
   "source": [
    "pred_df['Error'] = pred_df['Test Y'] - pred_df['Model Predictions']"
   ]
  },
  {
   "cell_type": "code",
   "execution_count": 95,
   "id": "c62dd644-002e-45c1-8c98-ae33a6d9e46f",
   "metadata": {},
   "outputs": [
    {
     "name": "stderr",
     "output_type": "stream",
     "text": [
      "C:\\Users\\ajitk\\AppData\\Local\\Temp\\ipykernel_12480\\1356567216.py:1: UserWarning: \n",
      "\n",
      "`distplot` is a deprecated function and will be removed in seaborn v0.14.0.\n",
      "\n",
      "Please adapt your code to use either `displot` (a figure-level function with\n",
      "similar flexibility) or `histplot` (an axes-level function for histograms).\n",
      "\n",
      "For a guide to updating your code to use the new functions, please see\n",
      "https://gist.github.com/mwaskom/de44147ed2974457ad6372750bbe5751\n",
      "\n",
      "  sns.distplot(pred_df['Error'],bins=50)\n"
     ]
    },
    {
     "data": {
      "text/plain": [
       "<Axes: xlabel='Error', ylabel='Density'>"
      ]
     },
     "execution_count": 95,
     "metadata": {},
     "output_type": "execute_result"
    },
    {
     "data": {
      "image/png": "[encoded data removed]",
      "text/plain": [
       "<Figure size 640x480 with 1 Axes>"
      ]
     },
     "metadata": {},
     "output_type": "display_data"
    }
   ],
   "source": [
    "sns.distplot(pred_df['Error'],bins=50)"
   ]
  },
  {
   "cell_type": "code",
   "execution_count": 96,
   "id": "047691f1-bf43-4cf7-869a-fd81b93493f4",
   "metadata": {},
   "outputs": [],
   "source": [
    "from sklearn.metrics import mean_absolute_error,mean_squared_error"
   ]
  },
  {
   "cell_type": "code",
   "execution_count": 97,
   "id": "29813952-c344-4a5b-81c7-2f08b69f12a1",
   "metadata": {},
   "outputs": [
    {
     "data": {
      "text/plain": [
       "1461.2914331343866"
      ]
     },
     "execution_count": 97,
     "metadata": {},
     "output_type": "execute_result"
    }
   ],
   "source": [
    "mean_absolute_error(pred_df['Test Y'],pred_df['Model Predictions'])"
   ]
  },
  {
   "cell_type": "code",
   "execution_count": 98,
   "id": "b74611f1-375e-4e65-a8b8-520a8cf7df91",
   "metadata": {},
   "outputs": [
    {
     "data": {
      "text/plain": [
       "2260032.153518205"
      ]
     },
     "execution_count": 98,
     "metadata": {},
     "output_type": "execute_result"
    }
   ],
   "source": [
    "mean_squared_error(pred_df['Test Y'],pred_df['Model Predictions'])"
   ]
  },
  {
   "cell_type": "code",
   "execution_count": 99,
   "id": "117e8905-8d72-4e07-8291-5239d3341e5a",
   "metadata": {},
   "outputs": [
    {
     "data": {
      "text/plain": [
       "2260032.25"
      ]
     },
     "execution_count": 99,
     "metadata": {},
     "output_type": "execute_result"
    }
   ],
   "source": [
    "test_score"
   ]
  },
  {
   "cell_type": "code",
   "execution_count": 100,
   "id": "b3a9fe0f-fc45-4672-8e04-83a39865df4c",
   "metadata": {},
   "outputs": [
    {
     "data": {
      "text/plain": [
       "1503.3403639894725"
      ]
     },
     "execution_count": 100,
     "metadata": {},
     "output_type": "execute_result"
    }
   ],
   "source": [
    "test_score**0.5"
   ]
  },
  {
   "cell_type": "code",
   "execution_count": 101,
   "id": "574ee756-1ae3-438a-8af7-c307032650cb",
   "metadata": {},
   "outputs": [],
   "source": [
    "# New Data\n",
    "new_crop = [[21,5,2024]]"
   ]
  },
  {
   "cell_type": "code",
   "execution_count": 103,
   "id": "ea10abdc-1e4e-4355-90b4-d7e1dffb078b",
   "metadata": {},
   "outputs": [
    {
     "data": {
      "text/plain": [
       "array([[  21.,    5., 2024.]])"
      ]
     },
     "execution_count": 103,
     "metadata": {},
     "output_type": "execute_result"
    }
   ],
   "source": [
    "# Don't forget to scale!\n",
    "scaler.transform(new_crop)"
   ]
  },
  {
   "cell_type": "code",
   "execution_count": 105,
   "id": "214dc7e1-223e-4560-b22f-1c4a51f4a085",
   "metadata": {},
   "outputs": [],
   "source": [
    "new_gem = scaler.transform(new_crop)"
   ]
  },
  {
   "cell_type": "code",
   "execution_count": 106,
   "id": "b8c9e666-1c5b-4b4e-8f84-ded6f3aeee97",
   "metadata": {},
   "outputs": [
    {
     "name": "stdout",
     "output_type": "stream",
     "text": [
      "1/1 [==============================] - 0s 50ms/step\n"
     ]
    },
    {
     "data": {
      "text/plain": [
       "array([[235.05849]], dtype=float32)"
      ]
     },
     "execution_count": 106,
     "metadata": {},
     "output_type": "execute_result"
    }
   ],
   "source": [
    "model.predict(new_gem)"
   ]
  },
  {
   "cell_type": "code",
   "execution_count": 107,
   "id": "53828a57-790b-4b8c-82f1-619dbfc036af",
   "metadata": {},
   "outputs": [],
   "source": [
    "from tensorflow.keras.models import load_model"
   ]
  },
  {
   "cell_type": "code",
   "execution_count": 108,
   "id": "bbbbc0c5-2b90-45e5-95ff-fc7a8ebc3066",
   "metadata": {},
   "outputs": [
    {
     "name": "stderr",
     "output_type": "stream",
     "text": [
      "C:\\Users\\ajitk\\anaconda3\\lib\\site-packages\\keras\\src\\engine\\training.py:3000: UserWarning: You are saving your model as an HDF5 file via `model.save()`. This file format is considered legacy. We recommend using instead the native Keras format, e.g. `model.save('my_model.keras')`.\n",
      "  saving_api.save_model(\n"
     ]
    }
   ],
   "source": [
    "model.save('my_model.h5')"
   ]
  },
  {
   "cell_type": "code",
   "execution_count": 109,
   "id": "0f83a1e6-8177-4d1a-901a-395a919f58f3",
   "metadata": {},
   "outputs": [],
   "source": [
    "later_model = load_model('my_model.h5')"
   ]
  },
  {
   "cell_type": "code",
   "execution_count": 110,
   "id": "42142b91-86a8-4c71-92c6-2cdcd61e0e0e",
   "metadata": {},
   "outputs": [
    {
     "name": "stdout",
     "output_type": "stream",
     "text": [
      "1/1 [==============================] - 0s 164ms/step\n"
     ]
    },
    {
     "data": {
      "text/plain": [
       "array([[235.05849]], dtype=float32)"
      ]
     },
     "execution_count": 110,
     "metadata": {},
     "output_type": "execute_result"
    }
   ],
   "source": [
    "later_model.predict(new_crop)"
   ]
  },
  {
   "cell_type": "code",
   "execution_count": 112,
   "id": "62150f85-5bab-4666-93c5-cebc83669c72",
   "metadata": {},
   "outputs": [
    {
     "data": {
      "text/plain": [
       "<Axes: xlabel='year', ylabel='month'>"
      ]
     },
     "execution_count": 112,
     "metadata": {},
     "output_type": "execute_result"
    },
    {
     "data": {
      "image/png": "[encoded data removed]",
      "text/plain": [
       "<Figure size 1200x800 with 1 Axes>"
      ]
     },
     "metadata": {},
     "output_type": "display_data"
    }
   ],
   "source": [
    "plt.figure(figsize=(12,8))\n",
    "sns.scatterplot(x='year',y='month',\n",
    "                data=df,hue='Modal Price (Rs./Quintal)',\n",
    "                palette='RdYlGn',edgecolor=None,alpha=0.2)"
   ]
  },
  {
   "cell_type": "code",
   "execution_count": 113,
   "id": "e5efffe5-a153-40c0-86cc-c8641e593743",
   "metadata": {},
   "outputs": [
    {
     "data": {
      "text/plain": [
       "<Axes: xlabel='month'>"
      ]
     },
     "execution_count": 113,
     "metadata": {},
     "output_type": "execute_result"
    },
    {
     "data": {
      "image/png": "[encoded data removed]",
      "text/plain": [
       "<Figure size 640x480 with 1 Axes>"
      ]
     },
     "metadata": {},
     "output_type": "display_data"
    }
   ],
   "source": [
    "df.groupby('month').mean()['Modal Price (Rs./Quintal)'].plot()"
   ]
  },
  {
   "cell_type": "code",
   "execution_count": null,
   "id": "b9566d95-78b0-4707-90ce-3144ca1436db",
   "metadata": {},
   "outputs": [],
   "source": []
  }
 ],
 "metadata": {
  "kernelspec": {
   "display_name": "Python 3 (ipykernel)",
   "language": "python",
   "name": "python3"
  },
  "language_info": {
   "codemirror_mode": {
    "name": "ipython",
    "version": 3
   },
   "file_extension": ".py",
   "mimetype": "text/x-python",
   "name": "python",
   "nbconvert_exporter": "python",
   "pygments_lexer": "ipython3",
   "version": "3.8.18"
  }
 },
 "nbformat": 4,
 "nbformat_minor": 5
}
